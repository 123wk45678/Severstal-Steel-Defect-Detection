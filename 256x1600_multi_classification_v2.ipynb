{
 "cells": [
  {
   "cell_type": "markdown",
   "metadata": {
    "colab_type": "text",
    "id": "sjrz4a0b5zMw"
   },
   "source": [
    "## Loading data"
   ]
  },
  {
   "cell_type": "code",
   "execution_count": 1,
   "metadata": {
    "ExecuteTime": {
     "end_time": "2019-10-18T16:30:50.439794Z",
     "start_time": "2019-10-18T16:30:49.405434Z"
    },
    "colab": {},
    "colab_type": "code",
    "id": "DCl3bKkU5zMx"
   },
   "outputs": [],
   "source": [
    "import os\n",
    "os.environ['CUDA_VISIBLE_DEVICES'] = '0'\n",
    "\n",
    "import numpy as np\n",
    "import cv2\n",
    "import matplotlib.pyplot as plt\n",
    "\n",
    "import os\n",
    "import cv2\n",
    "import pdb\n",
    "import time\n",
    "import warnings\n",
    "import random\n",
    "import numpy as np\n",
    "import pandas as pd\n",
    "from tqdm import tqdm as tqdm\n",
    "from torch.optim.lr_scheduler import ReduceLROnPlateau\n",
    "from sklearn.model_selection import train_test_split, KFold\n",
    "import torch\n",
    "import torch.nn as nn\n",
    "from torch.nn import functional as F\n",
    "import torch.optim as optim\n",
    "import torch.backends.cudnn as cudnn\n",
    "from torch.utils.data import DataLoader, Dataset, sampler\n",
    "from matplotlib import pyplot as plt\n",
    "from albumentations import (HorizontalFlip, ShiftScaleRotate, Normalize, Resize, Compose, GaussNoise)\n",
    "from albumentations.pytorch.transforms import ToTensor\n",
    "warnings.filterwarnings(\"ignore\")\n",
    "seed = 69\n",
    "random.seed(seed)\n",
    "os.environ[\"PYTHONHASHSEED\"] = str(seed)\n",
    "np.random.seed(seed)\n",
    "torch.cuda.manual_seed(seed)\n",
    "torch.backends.cudnn.deterministic = True"
   ]
  },
  {
   "cell_type": "code",
   "execution_count": 2,
   "metadata": {
    "ExecuteTime": {
     "end_time": "2019-10-18T16:30:50.461406Z",
     "start_time": "2019-10-18T16:30:50.441341Z"
    }
   },
   "outputs": [],
   "source": [
    "%load_ext autoreload\n",
    "%autoreload 2"
   ]
  },
  {
   "cell_type": "code",
   "execution_count": 3,
   "metadata": {
    "ExecuteTime": {
     "end_time": "2019-10-18T16:30:50.482125Z",
     "start_time": "2019-10-18T16:30:50.462776Z"
    },
    "colab": {},
    "colab_type": "code",
    "id": "GY1yfQ365zM5"
   },
   "outputs": [],
   "source": [
    "# helper function for data visualization\n",
    "def visualize(**images):\n",
    "    \"\"\"PLot images in one row.\"\"\"\n",
    "    n = len(images)\n",
    "    plt.figure(figsize=(16, 5))\n",
    "    for i, (name, image) in enumerate(images.items()):\n",
    "        plt.subplot(1, n, i + 1)\n",
    "        plt.xticks([])\n",
    "        plt.yticks([])\n",
    "        plt.title(' '.join(name.split('_')).title())\n",
    "        plt.imshow(image)\n",
    "    plt.show()"
   ]
  },
  {
   "cell_type": "markdown",
   "metadata": {
    "colab_type": "text",
    "id": "ru_JjA3u5zM8"
   },
   "source": [
    "### Dataloader\n",
    "\n",
    "Writing helper class for data extraction, tranformation and preprocessing  \n",
    "https://pytorch.org/docs/stable/data"
   ]
  },
  {
   "cell_type": "code",
   "execution_count": 4,
   "metadata": {
    "ExecuteTime": {
     "end_time": "2019-10-18T16:30:50.501392Z",
     "start_time": "2019-10-18T16:30:50.483536Z"
    },
    "colab": {},
    "colab_type": "code",
    "id": "okIYiGn_5zM9"
   },
   "outputs": [],
   "source": [
    "from torch.utils.data import DataLoader\n",
    "from torch.utils.data import Dataset as BaseDataset"
   ]
  },
  {
   "cell_type": "code",
   "execution_count": 5,
   "metadata": {
    "ExecuteTime": {
     "end_time": "2019-10-18T16:30:50.526878Z",
     "start_time": "2019-10-18T16:30:50.502597Z"
    }
   },
   "outputs": [],
   "source": [
    "def make_mask2(row_id, df):\n",
    "    '''Given a row index, return image_id and mask (256, 1600, 4) from the dataframe `df`'''\n",
    "    fname = df.iloc[row_id].name\n",
    "    labels = df.iloc[row_id][:4]\n",
    "    masks = np.zeros((256, 1600, 5), dtype=np.float32) # float32 is V.Imp\n",
    "    # 4:class 1～4 (ch:0～3)\n",
    "\n",
    "    for idx, label in enumerate(labels.values):\n",
    "        if label is not np.nan:\n",
    "            label = label.split(\" \")\n",
    "            positions = map(int, label[0::2])\n",
    "            length = map(int, label[1::2])\n",
    "            mask = np.zeros(256 * 1600, dtype=np.uint8)\n",
    "            for pos, le in zip(positions, length):\n",
    "                mask[pos:(pos + le)] = 1\n",
    "            masks[:, :, idx+1] = mask.reshape(256, 1600, order='F')\n",
    "    masks[:,:,0] = 1 - 1*(masks.sum(axis=2)>0)\n",
    "    return fname, masks\n",
    "\n",
    "\n",
    "\n",
    "class Dataset(BaseDataset):\n",
    "\n",
    "    CLASSES = ['1', '2', '3', '4']\n",
    "    \n",
    "    def __init__(\n",
    "            self, \n",
    "            df, data_folder, \n",
    "            classes=None, \n",
    "            augmentation=None, \n",
    "            preprocessing=None,\n",
    "    ):\n",
    "        self.df = df\n",
    "        self.root = data_folder\n",
    "\n",
    "        self.fnames = self.df.index.tolist()\n",
    "        \n",
    "        self.augmentation = augmentation\n",
    "        self.preprocessing = preprocessing\n",
    "    \n",
    "    def __getitem__(self, idx):\n",
    "        \n",
    "        image_id, mask = make_mask2(idx, self.df)\n",
    "        \n",
    "        image_path = os.path.join(self.root, image_id)\n",
    "        image = cv2.imread(image_path)\n",
    "\n",
    "        # apply augmentations\n",
    "        if self.augmentation:\n",
    "            sample = self.augmentation(image=image, mask=mask)\n",
    "            image, mask = sample['image'], sample['mask']\n",
    "\n",
    "        \n",
    "        # apply preprocessing\n",
    "        if self.preprocessing:\n",
    "            sample = self.preprocessing(image=image, mask=mask)\n",
    "            image, mask = sample['image'], sample['mask']\n",
    "            \n",
    "        \n",
    "        targets = 1*(mask.sum(axis=(1,2))[1:]>0)\n",
    "#         print(targets)\n",
    "        targets = torch.tensor(targets).float()\n",
    "            \n",
    "        return {'features': image, 'masks': mask, 'targets': targets}\n",
    "        \n",
    "    def __len__(self):\n",
    "        return len(self.fnames)"
   ]
  },
  {
   "cell_type": "code",
   "execution_count": 6,
   "metadata": {
    "ExecuteTime": {
     "end_time": "2019-10-18T16:30:50.543261Z",
     "start_time": "2019-10-18T16:30:50.528244Z"
    }
   },
   "outputs": [],
   "source": [
    "IMAGES_FULL= './input/severstal-steel-defect-detection/train_images/'\n",
    "IMAGES_OUT= './input/images_crop256x256/'\n",
    "MASKS_OUT = './input/masks_crop256x256/'\n",
    "IMAGES_N_OUT = './input/neg_images__crop256x256/'"
   ]
  },
  {
   "cell_type": "code",
   "execution_count": 7,
   "metadata": {
    "ExecuteTime": {
     "end_time": "2019-10-18T16:30:50.863159Z",
     "start_time": "2019-10-18T16:30:50.544719Z"
    },
    "colab": {
     "base_uri": "https://localhost:8080/",
     "height": 322
    },
    "colab_type": "code",
    "id": "xwDKSwsC5zNA",
    "outputId": "7e62a83b-a30a-4de4-faa6-66d51d8fed9a"
   },
   "outputs": [],
   "source": [
    "df = pd.read_csv('./input/severstal-steel-defect-detection/train.csv')\n",
    "\n",
    "df['ImageId'], df['ClassId'] = zip(*df['ImageId_ClassId'].str.split('_'))\n",
    "df['ClassId'] = df['ClassId'].astype(int)\n",
    "df = df.pivot(index='ImageId',columns='ClassId',values='EncodedPixels')\n",
    "df['defects'] = df.count(axis=1)"
   ]
  },
  {
   "cell_type": "code",
   "execution_count": 8,
   "metadata": {
    "ExecuteTime": {
     "end_time": "2019-10-18T16:30:50.891041Z",
     "start_time": "2019-10-18T16:30:50.865745Z"
    },
    "colab": {
     "base_uri": "https://localhost:8080/",
     "height": 322
    },
    "colab_type": "code",
    "id": "xwDKSwsC5zNA",
    "outputId": "7e62a83b-a30a-4de4-faa6-66d51d8fed9a",
    "scrolled": true
   },
   "outputs": [],
   "source": [
    "total_folds = 10\n",
    "kfold = KFold(total_folds, shuffle=True,random_state=69)\n",
    "\n",
    "train_idx, val_idx = list(kfold.split(df))[0]\n",
    "train_df, val_df = df.iloc[train_idx], df.iloc[val_idx]"
   ]
  },
  {
   "cell_type": "code",
   "execution_count": 9,
   "metadata": {
    "ExecuteTime": {
     "end_time": "2019-10-18T16:30:50.929922Z",
     "start_time": "2019-10-18T16:30:50.892555Z"
    },
    "scrolled": true
   },
   "outputs": [],
   "source": [
    "names = []\n",
    "for j in os.listdir('./input/severstal-steel-defect-detection/test_images'):\n",
    "    for i in range(1,5):\n",
    "        names.append(j+'_{}'.format(i))\n",
    "test_df = pd.DataFrame(names)\n",
    "test_df.columns = ['ImageId_ClassId']\n",
    "test_df['EncodedPixels'] = np.nan\n",
    "\n",
    "test_df['ImageId'], test_df['ClassId'] = zip(*test_df['ImageId_ClassId'].str.split('_'))\n",
    "test_df['ClassId'] = test_df['ClassId'].astype(int)\n",
    "test_df = test_df.pivot(index='ImageId',columns='ClassId',values='EncodedPixels')\n",
    "test_df['defects'] = test_df.count(axis=1)"
   ]
  },
  {
   "cell_type": "code",
   "execution_count": 10,
   "metadata": {
    "ExecuteTime": {
     "end_time": "2019-10-18T16:30:50.944675Z",
     "start_time": "2019-10-18T16:30:50.931107Z"
    },
    "colab": {},
    "colab_type": "code",
    "id": "f979TGC25zNH"
   },
   "outputs": [],
   "source": [
    "import albumentations as albu"
   ]
  },
  {
   "cell_type": "code",
   "execution_count": 11,
   "metadata": {
    "ExecuteTime": {
     "end_time": "2019-10-18T16:30:50.962739Z",
     "start_time": "2019-10-18T16:30:50.945875Z"
    },
    "colab": {},
    "colab_type": "code",
    "id": "aQJ4fPYI5zNJ"
   },
   "outputs": [],
   "source": [
    "def get_training_augmentation():\n",
    "    train_transform = [\n",
    "        albu.Resize(256,256),\n",
    "        albu.HorizontalFlip(p=0.5),\n",
    "        albu.VerticalFlip(p=0.3),\n",
    "\n",
    "        albu.RandomBrightness(p=0.1, limit=1),\n",
    "        albu.RandomContrast(p=0.1, limit=1),\n",
    "#         albu.CropNonEmptyMaskIfExists(256,512,ignore_channels=[0], p=1., always_apply=True),\n",
    "\n",
    "#         albu.IAAAdditiveGaussianNoise(p=0.2),\n",
    "\n",
    "    ]\n",
    "    return albu.Compose(train_transform)\n",
    "\n",
    "\n",
    "def get_validation_augmentation():\n",
    "    \"\"\"Add paddings to make image shape divisible by 32\"\"\"\n",
    "    test_transform = [\n",
    "        albu.Resize(256,256)\n",
    "    ]\n",
    "    return albu.Compose(test_transform)\n",
    "\n",
    "\n",
    "def to_tensor(x, **kwargs):\n",
    "    return x.transpose(2, 0, 1).astype('float32')\n",
    "\n",
    "\n",
    "def get_preprocessing(preprocessing_fn):\n",
    "    \"\"\"Construct preprocessing transform\n",
    "    \n",
    "    Args:\n",
    "        preprocessing_fn (callbale): data normalization function \n",
    "            (can be specific for each pretrained neural network)\n",
    "    Return:\n",
    "        transform: albumentations.Compose\n",
    "    \n",
    "    \"\"\"\n",
    "    \n",
    "    _transform = [\n",
    "        albu.Lambda(image=preprocessing_fn),\n",
    "        albu.Lambda(image=to_tensor, mask=to_tensor),\n",
    "    ]\n",
    "    return albu.Compose(_transform)"
   ]
  },
  {
   "cell_type": "markdown",
   "metadata": {
    "colab_type": "text",
    "id": "jyTjvl_x5zNN"
   },
   "source": [
    "## Create model and train"
   ]
  },
  {
   "cell_type": "code",
   "execution_count": 12,
   "metadata": {
    "ExecuteTime": {
     "end_time": "2019-10-18T16:30:51.840591Z",
     "start_time": "2019-10-18T16:30:50.963822Z"
    },
    "colab": {},
    "colab_type": "code",
    "id": "1RhasOVZ5zNO",
    "scrolled": true
   },
   "outputs": [],
   "source": [
    "import pretrainedmodels\n",
    "import segmentation_models_pytorch as smp\n",
    "\n",
    "\n",
    "\n",
    "from torch import nn\n",
    "def get_model(model_name: str, num_classes: int, pretrained: str = \"imagenet\"):\n",
    "    model_fn = pretrainedmodels.__dict__[model_name]\n",
    "    model = model_fn(num_classes=1000, pretrained=pretrained)\n",
    "    \n",
    "    dim_feats = model.last_linear.in_features\n",
    "    model.last_linear = nn.Linear(dim_feats, num_classes)\n",
    "\n",
    "    return model"
   ]
  },
  {
   "cell_type": "code",
   "execution_count": 13,
   "metadata": {
    "ExecuteTime": {
     "end_time": "2019-10-18T16:30:51.855480Z",
     "start_time": "2019-10-18T16:30:51.841702Z"
    },
    "colab": {},
    "colab_type": "code",
    "id": "Sf3rKNhl5zNP"
   },
   "outputs": [],
   "source": [
    "model_name = \"resnet34\"\n",
    "ENCODER_WEIGHTS = 'imagenet'\n",
    "DEVICE = 'cuda'"
   ]
  },
  {
   "cell_type": "code",
   "execution_count": 14,
   "metadata": {
    "ExecuteTime": {
     "end_time": "2019-10-18T16:30:51.870728Z",
     "start_time": "2019-10-18T16:30:51.856619Z"
    },
    "colab": {},
    "colab_type": "code",
    "id": "tx5qw79T5zNR"
   },
   "outputs": [],
   "source": [
    "import torch\n",
    "\n",
    "ENCODER = 'se_resnext50_32x4d'\n",
    "ENCODER_WEIGHTS = 'imagenet'\n",
    "preprocessing_fn = smp.encoders.get_preprocessing_fn(ENCODER, ENCODER_WEIGHTS)"
   ]
  },
  {
   "cell_type": "code",
   "execution_count": null,
   "metadata": {},
   "outputs": [],
   "source": []
  },
  {
   "cell_type": "code",
   "execution_count": 15,
   "metadata": {
    "ExecuteTime": {
     "end_time": "2019-10-18T16:30:52.585949Z",
     "start_time": "2019-10-18T16:30:51.871737Z"
    }
   },
   "outputs": [],
   "source": [
    "from model_resnet import ResidualNet\n",
    "\n",
    "model = ResidualNet( 'ImageNet', 50, 1000, 'CBAM')"
   ]
  },
  {
   "cell_type": "code",
   "execution_count": 16,
   "metadata": {
    "ExecuteTime": {
     "end_time": "2019-10-18T16:30:54.569082Z",
     "start_time": "2019-10-18T16:30:52.587234Z"
    }
   },
   "outputs": [],
   "source": [
    "state = torch.load(\"/home/dex/Downloads/cbam/cbam/RESNET50_CBAM_new_name_wrap.pth\")\n"
   ]
  },
  {
   "cell_type": "code",
   "execution_count": 17,
   "metadata": {
    "ExecuteTime": {
     "end_time": "2019-10-18T16:30:54.586935Z",
     "start_time": "2019-10-18T16:30:54.570510Z"
    }
   },
   "outputs": [],
   "source": [
    "new_state_dict = {}\n",
    "for j in state['state_dict'].keys():\n",
    "    j_ = j[7:]\n",
    "    new_state_dict[j_] = state['state_dict'][j]"
   ]
  },
  {
   "cell_type": "code",
   "execution_count": 18,
   "metadata": {
    "ExecuteTime": {
     "end_time": "2019-10-18T16:30:54.603573Z",
     "start_time": "2019-10-18T16:30:54.588119Z"
    }
   },
   "outputs": [],
   "source": [
    "# \n",
    "#model.load_state_dict(new_state_dict)"
   ]
  },
  {
   "cell_type": "code",
   "execution_count": 19,
   "metadata": {
    "ExecuteTime": {
     "end_time": "2019-10-18T16:30:54.629033Z",
     "start_time": "2019-10-18T16:30:54.604945Z"
    }
   },
   "outputs": [],
   "source": [
    "model.avgpool = nn.AdaptiveAvgPool2d(1)\n",
    "\n",
    "model.fc = nn.Sequential(\n",
    "#                       nn.BatchNorm1d(2048, eps=1e-05, momentum=0.1, affine=True, track_running_stats=True),\n",
    "                      nn.Dropout(p=0.5),\n",
    "#                       nn.Linear(in_features=2048, out_features=512, bias=True),\n",
    "#                       nn.ELU(True),\n",
    "#                       nn.BatchNorm1d(512, eps=1e-05, momentum=0.1, affine=True, track_running_stats=True),\n",
    "#                       nn.Dropout(p=0.4),\n",
    "                      nn.Linear(in_features=2048, out_features=4, bias=True)\n",
    "                    )"
   ]
  },
  {
   "cell_type": "code",
   "execution_count": null,
   "metadata": {},
   "outputs": [],
   "source": []
  },
  {
   "cell_type": "code",
   "execution_count": 20,
   "metadata": {
    "ExecuteTime": {
     "end_time": "2019-10-18T16:30:54.648322Z",
     "start_time": "2019-10-18T16:30:54.630215Z"
    }
   },
   "outputs": [],
   "source": [
    "CLASSES = ['0','1','2','3','4']\n",
    "train_dataset = Dataset(\n",
    "    train_df, IMAGES_FULL, \n",
    "    augmentation=get_training_augmentation(), \n",
    "    preprocessing=get_preprocessing(preprocessing_fn),\n",
    "    classes=CLASSES,\n",
    ")\n",
    "\n",
    "\n",
    "valid_dataset = Dataset(\n",
    "    val_df, IMAGES_FULL, \n",
    "    augmentation=get_validation_augmentation(), \n",
    "    preprocessing=get_preprocessing(preprocessing_fn),\n",
    "    classes=CLASSES,\n",
    ")\n"
   ]
  },
  {
   "cell_type": "code",
   "execution_count": null,
   "metadata": {},
   "outputs": [],
   "source": []
  },
  {
   "cell_type": "code",
   "execution_count": null,
   "metadata": {},
   "outputs": [],
   "source": []
  },
  {
   "cell_type": "code",
   "execution_count": 21,
   "metadata": {
    "ExecuteTime": {
     "end_time": "2019-10-18T16:30:54.750259Z",
     "start_time": "2019-10-18T16:30:54.649626Z"
    }
   },
   "outputs": [],
   "source": [
    "train_df['classes'] = train_df[1].isnull().astype(str)+'&'+train_df[2].isnull().astype(str)+'&'+train_df[3].isnull().astype(str)+'&'+train_df[4].isnull().astype(str)"
   ]
  },
  {
   "cell_type": "code",
   "execution_count": 22,
   "metadata": {
    "ExecuteTime": {
     "end_time": "2019-10-18T16:30:55.090128Z",
     "start_time": "2019-10-18T16:30:54.751611Z"
    }
   },
   "outputs": [],
   "source": [
    "train_df.loc[train_df['classes']=='False&False&True&True', 'classes'] = 'True&False&True&True'\n",
    "train_df.loc[train_df['classes']=='True&True&False&False', 'classes'] = 'True&True&True&False'\n",
    "train_df.loc[train_df['classes']=='False&True&False&True', 'classes'] = 'False&True&True&True'\n",
    "train_df.loc[train_df['classes']=='True&False&False&True', 'classes'] = 'True&False&True&True'\n",
    "train_df.loc[train_df['classes']=='False&False&False&True', 'classes'] = 'True&False&True&True'\n",
    "train_df.loc[train_df['classes']=='True&False&True&False', 'classes'] = 'True&False&True&True'\n"
   ]
  },
  {
   "cell_type": "code",
   "execution_count": 23,
   "metadata": {
    "ExecuteTime": {
     "end_time": "2019-10-18T16:30:55.114575Z",
     "start_time": "2019-10-18T16:30:55.092703Z"
    }
   },
   "outputs": [
    {
     "data": {
      "text/plain": [
       "True&True&True&True     5330\n",
       "True&True&False&True    4276\n",
       "False&True&True&True     761\n",
       "True&True&True&False     725\n",
       "True&False&True&True     219\n",
       "Name: classes, dtype: int64"
      ]
     },
     "execution_count": 23,
     "metadata": {},
     "output_type": "execute_result"
    }
   ],
   "source": [
    "train_df['classes'].value_counts()"
   ]
  },
  {
   "cell_type": "code",
   "execution_count": 24,
   "metadata": {
    "ExecuteTime": {
     "end_time": "2019-10-18T16:30:55.137355Z",
     "start_time": "2019-10-18T16:30:55.116912Z"
    }
   },
   "outputs": [],
   "source": [
    "train_df = train_df.sample(frac=1.)"
   ]
  },
  {
   "cell_type": "code",
   "execution_count": 25,
   "metadata": {
    "ExecuteTime": {
     "end_time": "2019-10-18T16:30:55.432177Z",
     "start_time": "2019-10-18T16:30:55.138554Z"
    },
    "scrolled": true
   },
   "outputs": [],
   "source": [
    "from catalyst.data.sampler import BalanceClassSampler\n",
    "\n",
    "labels, _ = pd.factorize(train_df.classes)\n",
    "sampler = BalanceClassSampler(labels, mode=\"downsampling\")"
   ]
  },
  {
   "cell_type": "code",
   "execution_count": 26,
   "metadata": {
    "ExecuteTime": {
     "end_time": "2019-10-18T16:30:55.462001Z",
     "start_time": "2019-10-18T16:30:55.433573Z"
    },
    "colab": {
     "base_uri": "https://localhost:8080/",
     "height": 71
    },
    "colab_type": "code",
    "id": "WSwo7d9A5zNV",
    "outputId": "4f155340-8e17-428f-d26f-413924b9a8ce",
    "scrolled": true
   },
   "outputs": [],
   "source": [
    "train_dataset = Dataset(\n",
    "    train_df, IMAGES_FULL, \n",
    "    augmentation=get_training_augmentation(), \n",
    "    preprocessing=get_preprocessing(preprocessing_fn),\n",
    "    classes=CLASSES,\n",
    ")\n",
    "\n",
    "valid_dataset = Dataset(\n",
    "    val_df, IMAGES_FULL, \n",
    "    augmentation=get_validation_augmentation(), \n",
    "    preprocessing=get_preprocessing(preprocessing_fn),\n",
    "    classes=CLASSES,\n",
    ")\n",
    "\n",
    "\n",
    "train_loader = DataLoader(train_dataset, batch_size=8, num_workers=4, sampler=sampler)\n",
    "valid_loader = DataLoader(valid_dataset, batch_size=8, shuffle=False, num_workers=4)"
   ]
  },
  {
   "cell_type": "code",
   "execution_count": 27,
   "metadata": {
    "ExecuteTime": {
     "end_time": "2019-10-18T16:30:55.508285Z",
     "start_time": "2019-10-18T16:30:55.463545Z"
    }
   },
   "outputs": [
    {
     "data": {
      "text/plain": [
       "(3, 256, 256)"
      ]
     },
     "execution_count": 27,
     "metadata": {},
     "output_type": "execute_result"
    }
   ],
   "source": [
    "train_dataset.__getitem__(0)['features'].shape"
   ]
  },
  {
   "cell_type": "markdown",
   "metadata": {
    "colab_type": "text",
    "id": "BFtDYPk68H7Z"
   },
   "source": [
    "# Catalyst"
   ]
  },
  {
   "cell_type": "code",
   "execution_count": 28,
   "metadata": {
    "ExecuteTime": {
     "end_time": "2019-10-18T16:30:55.532220Z",
     "start_time": "2019-10-18T16:30:55.509605Z"
    }
   },
   "outputs": [],
   "source": [
    "# state = torch.load(\"./logs/segmentation_notebook/checkpoints/last.pth\")\n",
    "# model.load_state_dict(state['model_state_dict'])"
   ]
  },
  {
   "cell_type": "markdown",
   "metadata": {
    "colab_type": "text",
    "id": "VPsESkA194PH"
   },
   "source": [
    "## Training"
   ]
  },
  {
   "cell_type": "code",
   "execution_count": 29,
   "metadata": {
    "ExecuteTime": {
     "end_time": "2019-10-18T16:30:56.016148Z",
     "start_time": "2019-10-18T16:30:55.533354Z"
    },
    "colab": {
     "base_uri": "https://localhost:8080/",
     "height": 615
    },
    "colab_type": "code",
    "id": "AAQdydOw7A8n",
    "outputId": "8e095b7d-c0bc-4e48-a90d-2413ab3e318f"
   },
   "outputs": [],
   "source": [
    "import torch\n",
    "import torch.nn as nn\n",
    "from catalyst.dl import SupervisedRunner\n",
    "from catalyst.dl.callbacks import DiceCallback\n",
    "\n",
    "\n",
    "# folder for all the experiment logs\n",
    "logdir = \"./logs/cbam_v5/\"\n",
    "NUM_EPOCHS = 100\n",
    "\n",
    "loaders = {\n",
    "    \"train\": train_loader,\n",
    "    \"valid\": valid_loader\n",
    "}\n",
    "\n",
    "# model, criterion, optimizer\n",
    "# model = # already defined\n",
    "\n",
    "criterion = {\n",
    "    \"bce\": nn.BCEWithLogitsLoss(),\n",
    "}\n",
    "\n",
    "\n",
    "# optimizer = torch.optim.SGD(model.parameters(), 0.1,\n",
    "#                             momentum=0.9,\n",
    "#                             weight_decay=1e-4)\n",
    "\n",
    "optimizer = torch.optim.Adam([\n",
    "    {'params': model.parameters(), 'lr': 3e-4},])\n",
    "\n",
    "# optimizer = torch.optim.Adam([\n",
    "#     {'params': model.decoder.parameters(), 'lr': 3e-4}, \n",
    "    \n",
    "#     # decrease lr for encoder in order not to permute \n",
    "#     # pre-trained weights with large gradients on training start\n",
    "#     {'params': model.encoder.parameters(), 'lr': 3e-5},  \n",
    "# ])\n",
    "\n",
    "scheduler = optim.lr_scheduler.ReduceLROnPlateau(optimizer, factor=0.9, patience=3)\n",
    "\n",
    "# model runner\n",
    "runner = SupervisedRunner(input_target_key=None)"
   ]
  },
  {
   "cell_type": "code",
   "execution_count": 30,
   "metadata": {
    "ExecuteTime": {
     "end_time": "2019-10-18T16:30:56.042020Z",
     "start_time": "2019-10-18T16:30:56.017475Z"
    }
   },
   "outputs": [],
   "source": [
    "from catalyst.dl.callbacks import InferCallback, CheckpointCallback, CriterionCallback, CriterionAggregatorCallback\n",
    "from catalyst.dl.callbacks import AccuracyCallback, AUCCallback, F1ScoreCallback\n",
    "from new_metrics import MacroF1Callback, ConfusionMatrixCallback"
   ]
  },
  {
   "cell_type": "code",
   "execution_count": 31,
   "metadata": {
    "ExecuteTime": {
     "end_time": "2019-10-18T16:43:38.852138Z",
     "start_time": "2019-10-18T16:30:56.043100Z"
    },
    "scrolled": true
   },
   "outputs": [
    {
     "data": {
      "application/javascript": [
       "IPython.notebook.save_checkpoint();"
      ],
      "text/plain": [
       "<IPython.core.display.Javascript object>"
      ]
     },
     "metadata": {},
     "output_type": "display_data"
    },
    {
     "data": {
      "application/javascript": [
       "IPython.notebook.save_checkpoint();"
      ],
      "text/plain": [
       "<IPython.core.display.Javascript object>"
      ]
     },
     "metadata": {},
     "output_type": "display_data"
    },
    {
     "data": {
      "application/javascript": [
       "IPython.notebook.save_checkpoint();"
      ],
      "text/plain": [
       "<IPython.core.display.Javascript object>"
      ]
     },
     "metadata": {},
     "output_type": "display_data"
    },
    {
     "data": {
      "application/javascript": [
       "IPython.notebook.save_checkpoint();"
      ],
      "text/plain": [
       "<IPython.core.display.Javascript object>"
      ]
     },
     "metadata": {},
     "output_type": "display_data"
    },
    {
     "name": "stdout",
     "output_type": "stream",
     "text": [
      "[2019-10-18 19:31:39,322] \n",
      "0/100 * Epoch 0 (train): 0_fscore_05=0.1834 | 0_fscore_best=0.4503 | 0_fscore_best_th=0.1500 | 0_precision_05=0.3563 | 0_precision_best=0.3020 | 0_recall_05=0.1235 | 0_recall_best=0.8845 | 1_fscore_05=0.3412 | 1_fscore_best=0.5545 | 1_fscore_best_th=0.2250 | 1_precision_05=0.4793 | 1_precision_best=0.4341 | 1_recall_05=0.2648 | 1_recall_best=0.7671 | 2_fscore_05=0.1480 | 2_fscore_best=0.4785 | 2_fscore_best_th=0.1000 | 2_precision_05=0.3875 | 2_precision_best=0.3176 | 2_recall_05=0.0914 | 2_recall_best=0.9705 | 3_fscore_05=0.2635 | 3_fscore_best=0.4459 | 3_fscore_best_th=0.2250 | 3_precision_05=0.5132 | 3_precision_best=0.3548 | 3_recall_05=0.1773 | 3_recall_best=0.6000 | _base/lr=0.0010 | _base/momentum=0.9000 | _timers/_fps=307.1837 | _timers/batch_time=0.0310 | _timers/data_time=0.0082 | _timers/model_time=0.0228 | fscore_macro_best=0.4823 | loss=0.4990 | loss_bce=0.4990 | macro_f1=0.2340\n",
      "0/100 * Epoch 0 (valid): 0_fscore_05=0.2604 | 0_fscore_best=0.2604 | 0_fscore_best_th=0.5000 | 0_precision_05=0.1829 | 0_precision_best=0.1829 | 0_recall_05=0.4519 | 0_recall_best=0.4519 | 1_fscore_05=0.2037 | 1_fscore_best=0.2085 | 1_fscore_best_th=0.5250 | 1_precision_05=0.1170 | 1_precision_best=0.1202 | 1_recall_05=0.7857 | 1_recall_best=0.7857 | 2_fscore_05=0.2090 | 2_fscore_best=0.6207 | 2_fscore_best_th=0.2000 | 2_precision_05=0.6771 | 2_precision_best=0.4608 | 2_recall_05=0.1236 | 2_recall_best=0.9506 | 3_fscore_05=0.3041 | 3_fscore_best=0.3041 | 3_fscore_best_th=0.5000 | 3_precision_05=0.2708 | 3_precision_best=0.2708 | 3_recall_05=0.3467 | 3_recall_best=0.3467 | _base/lr=0.0010 | _base/momentum=0.9000 | _timers/_fps=331.8912 | _timers/batch_time=0.0264 | _timers/data_time=0.0089 | _timers/model_time=0.0174 | fscore_macro_best=0.3484 | loss=0.3934 | loss_bce=0.3934 | macro_f1=0.2443\n",
      "[2019-10-18 19:32:30,714] \n",
      "1/100 * Epoch 1 (train): 0_fscore_05=0.1623 | 0_fscore_best=0.4712 | 0_fscore_best_th=0.2250 | 0_precision_05=0.4386 | 0_precision_best=0.3548 | 0_recall_05=0.0996 | 0_recall_best=0.7012 | 1_fscore_05=0.3944 | 1_fscore_best=0.5955 | 1_fscore_best_th=0.1750 | 1_precision_05=0.5147 | 1_precision_best=0.4572 | 1_recall_05=0.3196 | 1_recall_best=0.8539 | 2_fscore_05=0.1624 | 2_fscore_best=0.4852 | 2_fscore_best_th=0.1750 | 2_precision_05=0.4023 | 2_precision_best=0.3312 | 2_recall_05=0.1017 | 2_recall_best=0.9070 | 3_fscore_05=0.3091 | 3_fscore_best=0.5240 | 3_fscore_best_th=0.2250 | 3_precision_05=0.5052 | 3_precision_best=0.4039 | 3_recall_05=0.2227 | 3_recall_best=0.7455 | _base/lr=0.0003 | _base/momentum=0.9000 | _timers/_fps=283.1861 | _timers/batch_time=0.0913 | _timers/data_time=0.0696 | _timers/model_time=0.0217 | fscore_macro_best=0.5190 | loss=0.4778 | loss_bce=0.4778 | macro_f1=0.2571\n",
      "1/100 * Epoch 1 (valid): 0_fscore_05=0.1553 | 0_fscore_best=0.2651 | 0_fscore_best_th=0.2250 | 0_precision_05=0.1478 | 0_precision_best=0.1606 | 0_recall_05=0.1635 | 0_recall_best=0.7596 | 1_fscore_05=0.1154 | 1_fscore_best=0.1724 | 1_fscore_best_th=0.4250 | 1_precision_05=0.1250 | 1_precision_best=0.1136 | 1_recall_05=0.1071 | 1_recall_best=0.3571 | 2_fscore_05=0.0219 | 2_fscore_best=0.6049 | 2_fscore_best_th=0.2750 | 2_precision_05=0.2609 | 2_precision_best=0.4496 | 2_recall_05=0.0114 | 2_recall_best=0.9240 | 3_fscore_05=0.000e+00 | 3_fscore_best=0.2071 | 3_fscore_best_th=0.2750 | 3_precision_05=0.000e+00 | 3_precision_best=0.1415 | 3_recall_05=0.000e+00 | 3_recall_best=0.3867 | _base/lr=0.0003 | _base/momentum=0.9000 | _timers/_fps=258.3027 | _timers/batch_time=0.0349 | _timers/data_time=0.0107 | _timers/model_time=0.0241 | fscore_macro_best=0.3124 | loss=0.3724 | loss_bce=0.3724 | macro_f1=0.0731\n",
      "[2019-10-18 19:33:54,786] \n",
      "2/100 * Epoch 2 (train): 0_fscore_05=0.0863 | 0_fscore_best=0.4483 | 0_fscore_best_th=0.2250 | 0_precision_05=0.4444 | 0_precision_best=0.3244 | 0_recall_05=0.0478 | 0_recall_best=0.7251 | 1_fscore_05=0.4463 | 1_fscore_best=0.6094 | 1_fscore_best_th=0.2500 | 1_precision_05=0.5625 | 1_precision_best=0.4827 | 1_recall_05=0.3699 | 1_recall_best=0.8265 | 2_fscore_05=0.1631 | 2_fscore_best=0.4942 | 2_fscore_best_th=0.1750 | 2_precision_05=0.4359 | 2_precision_best=0.3358 | 2_recall_05=0.1003 | 2_recall_best=0.9351 | 3_fscore_05=0.3772 | 3_fscore_best=0.5341 | 3_fscore_best_th=0.2750 | 3_precision_05=0.5526 | 3_precision_best=0.4408 | 3_recall_05=0.2864 | 3_recall_best=0.6773 | _base/lr=0.0003 | _base/momentum=0.9000 | _timers/_fps=219.1370 | _timers/batch_time=0.3572 | _timers/data_time=0.3282 | _timers/model_time=0.0289 | fscore_macro_best=0.5215 | loss=0.4740 | loss_bce=0.4740 | macro_f1=0.2682\n",
      "2/100 * Epoch 2 (valid): 0_fscore_05=0.000e+00 | 0_fscore_best=0.2808 | 0_fscore_best_th=0.3000 | 0_precision_05=0.000e+00 | 0_precision_best=0.1749 | 0_recall_05=0.000e+00 | 0_recall_best=0.7115 | 1_fscore_05=0.1500 | 1_fscore_best=0.1818 | 1_fscore_best_th=0.4250 | 1_precision_05=0.1154 | 1_precision_best=0.1220 | 1_recall_05=0.2143 | 1_recall_best=0.3571 | 2_fscore_05=0.1610 | 2_fscore_best=0.6184 | 2_fscore_best_th=0.1750 | 2_precision_05=0.5263 | 2_precision_best=0.4605 | 2_recall_05=0.0951 | 2_recall_best=0.9411 | 3_fscore_05=0.2659 | 3_fscore_best=0.2741 | 3_fscore_best_th=0.4750 | 3_precision_05=0.2347 | 3_precision_best=0.2213 | 3_recall_05=0.3067 | 3_recall_best=0.3600 | _base/lr=0.0003 | _base/momentum=0.9000 | _timers/_fps=250.1229 | _timers/batch_time=0.0357 | _timers/data_time=0.0113 | _timers/model_time=0.0244 | fscore_macro_best=0.3388 | loss=0.3536 | loss_bce=0.3536 | macro_f1=0.1442\n",
      "[2019-10-18 19:34:35,742] \n",
      "3/100 * Epoch 3 (train): 0_fscore_05=0.1830 | 0_fscore_best=0.4861 | 0_fscore_best_th=0.2500 | 0_precision_05=0.5091 | 0_precision_best=0.3636 | 0_recall_05=0.1116 | 0_recall_best=0.7331 | 1_fscore_05=0.5735 | 1_fscore_best=0.6527 | 1_fscore_best_th=0.3250 | 1_precision_05=0.6071 | 1_precision_best=0.5607 | 1_recall_05=0.5434 | 1_recall_best=0.7808 | 2_fscore_05=0.1598 | 2_fscore_best=0.5029 | 2_fscore_best_th=0.1750 | 2_precision_05=0.4286 | 2_precision_best=0.3487 | 2_recall_05=0.0982 | 2_recall_best=0.9018 | 3_fscore_05=0.3438 | 3_fscore_best=0.5585 | 3_fscore_best_th=0.3000 | 3_precision_05=0.5500 | 3_precision_best=0.4774 | 3_recall_05=0.2500 | 3_recall_best=0.6727 | _base/lr=0.0003 | _base/momentum=0.9000 | _timers/_fps=250.9578 | _timers/batch_time=0.0394 | _timers/data_time=0.0126 | _timers/model_time=0.0267 | fscore_macro_best=0.5500 | loss=0.4512 | loss_bce=0.4512 | macro_f1=0.3150\n",
      "3/100 * Epoch 3 (valid): 0_fscore_05=0.000e+00 | 0_fscore_best=0.3485 | 0_fscore_best_th=0.4000 | 0_precision_05=0.000e+00 | 0_precision_best=0.2875 | 0_recall_05=0.000e+00 | 0_recall_best=0.4423 | 1_fscore_05=0.3137 | 1_fscore_best=0.3303 | 1_fscore_best_th=0.4000 | 1_precision_05=0.3478 | 1_precision_best=0.2222 | 1_recall_05=0.2857 | 1_recall_best=0.6429 | 2_fscore_05=0.2063 | 2_fscore_best=0.6385 | 2_fscore_best_th=0.2250 | 2_precision_05=0.6250 | 2_precision_best=0.4812 | 2_recall_05=0.1236 | 2_recall_best=0.9487 | 3_fscore_05=0.2946 | 3_fscore_best=0.3121 | 3_fscore_best_th=0.5500 | 3_precision_05=0.1871 | 3_precision_best=0.2126 | 3_recall_05=0.6933 | 3_recall_best=0.5867 | _base/lr=0.0003 | _base/momentum=0.9000 | _timers/_fps=240.7931 | _timers/batch_time=0.0366 | _timers/data_time=0.0113 | _timers/model_time=0.0252 | fscore_macro_best=0.4073 | loss=0.3814 | loss_bce=0.3814 | macro_f1=0.2037\n",
      "[2019-10-18 19:35:15,662] \n",
      "4/100 * Epoch 4 (train): 0_fscore_05=0.2606 | 0_fscore_best=0.5025 | 0_fscore_best_th=0.3000 | 0_precision_05=0.5443 | 0_precision_best=0.4314 | 0_recall_05=0.1713 | 0_recall_best=0.6016 | 1_fscore_05=0.5971 | 1_fscore_best=0.6596 | 1_fscore_best_th=0.2250 | 1_precision_05=0.6373 | 1_precision_best=0.5391 | 1_recall_05=0.5616 | 1_recall_best=0.8493 | 2_fscore_05=0.2005 | 2_fscore_best=0.5023 | 2_fscore_best_th=0.2250 | 2_precision_05=0.4400 | 2_precision_best=0.3620 | 2_recall_05=0.1298 | 2_recall_best=0.8201 | 3_fscore_05=0.4426 | 3_fscore_best=0.5615 | 3_fscore_best_th=0.2500 | 3_precision_05=0.5548 | 3_precision_best=0.4538 | 3_recall_05=0.3682 | 3_recall_best=0.7364 | _base/lr=0.0003 | _base/momentum=0.9000 | _timers/_fps=284.0224 | _timers/batch_time=0.0371 | _timers/data_time=0.0144 | _timers/model_time=0.0226 | fscore_macro_best=0.5565 | loss=0.4420 | loss_bce=0.4420 | macro_f1=0.3752\n",
      "4/100 * Epoch 4 (valid): 0_fscore_05=0.3042 | 0_fscore_best=0.3488 | 0_fscore_best_th=0.5500 | 0_precision_05=0.2151 | 0_precision_best=0.2768 | 0_recall_05=0.5192 | 0_recall_best=0.4712 | 1_fscore_05=0.2000 | 1_fscore_best=0.2500 | 1_fscore_best_th=0.3750 | 1_precision_05=0.3333 | 1_precision_best=0.2045 | 1_recall_05=0.1429 | 1_recall_best=0.3214 | 2_fscore_05=0.2781 | 2_fscore_best=0.5961 | 2_fscore_best_th=0.1000 | 2_precision_05=0.6267 | 2_precision_best=0.4274 | 2_recall_05=0.1787 | 2_recall_best=0.9848 | 3_fscore_05=0.1905 | 3_fscore_best=0.3628 | 3_fscore_best_th=0.3250 | 3_precision_05=0.3333 | 3_precision_best=0.2786 | 3_recall_05=0.1333 | 3_recall_best=0.5200 | _base/lr=0.0003 | _base/momentum=0.9000 | _timers/_fps=280.1556 | _timers/batch_time=0.0319 | _timers/data_time=0.0103 | _timers/model_time=0.0216 | fscore_macro_best=0.3894 | loss=0.3622 | loss_bce=0.3622 | macro_f1=0.2432\n"
     ]
    },
    {
     "name": "stdout",
     "output_type": "stream",
     "text": [
      "[2019-10-18 19:35:58,591] \n",
      "5/100 * Epoch 5 (train): 0_fscore_05=0.3536 | 0_fscore_best=0.4992 | 0_fscore_best_th=0.2750 | 0_precision_05=0.5766 | 0_precision_best=0.4119 | 0_recall_05=0.2550 | 0_recall_best=0.6335 | 1_fscore_05=0.6551 | 1_fscore_best=0.7091 | 1_fscore_best_th=0.3750 | 1_precision_05=0.7174 | 1_precision_best=0.6627 | 1_recall_05=0.6027 | 1_recall_best=0.7626 | 2_fscore_05=0.2282 | 2_fscore_best=0.5137 | 2_fscore_best_th=0.2250 | 2_precision_05=0.4397 | 2_precision_best=0.3677 | 2_recall_05=0.1541 | 2_recall_best=0.8520 | 3_fscore_05=0.3841 | 3_fscore_best=0.5440 | 3_fscore_best_th=0.3000 | 3_precision_05=0.5833 | 3_precision_best=0.4777 | 3_recall_05=0.2864 | 3_recall_best=0.6318 | _base/lr=0.0003 | _base/momentum=0.9000 | _timers/_fps=314.7168 | _timers/batch_time=0.0311 | _timers/data_time=0.0107 | _timers/model_time=0.0203 | fscore_macro_best=0.5665 | loss=0.4340 | loss_bce=0.4340 | macro_f1=0.4053\n",
      "5/100 * Epoch 5 (valid): 0_fscore_05=0.3883 | 0_fscore_best=0.4467 | 0_fscore_best_th=0.7000 | 0_precision_05=0.2927 | 0_precision_best=0.4731 | 0_recall_05=0.5769 | 0_recall_best=0.4231 | 1_fscore_05=0.3210 | 1_fscore_best=0.4583 | 1_fscore_best_th=0.6750 | 1_precision_05=0.2453 | 1_precision_best=0.5500 | 1_recall_05=0.4643 | 1_recall_best=0.3929 | 2_fscore_05=0.0260 | 2_fscore_best=0.6327 | 2_fscore_best_th=0.1000 | 2_precision_05=0.5833 | 2_precision_best=0.4673 | 2_recall_05=0.0133 | 2_recall_best=0.9791 | 3_fscore_05=0.3646 | 3_fscore_best=0.3646 | 3_fscore_best_th=0.5000 | 3_precision_05=0.2991 | 3_precision_best=0.2991 | 3_recall_05=0.4667 | 3_recall_best=0.4667 | _base/lr=0.0003 | _base/momentum=0.9000 | _timers/_fps=282.1643 | _timers/batch_time=0.0314 | _timers/data_time=0.0096 | _timers/model_time=0.0218 | fscore_macro_best=0.4756 | loss=0.3629 | loss_bce=0.3629 | macro_f1=0.2750\n",
      "[2019-10-18 19:36:41,188] \n",
      "6/100 * Epoch 6 (train): 0_fscore_05=0.3556 | 0_fscore_best=0.4966 | 0_fscore_best_th=0.2750 | 0_precision_05=0.5872 | 0_precision_best=0.4290 | 0_recall_05=0.2550 | 0_recall_best=0.5896 | 1_fscore_05=0.6425 | 1_fscore_best=0.6938 | 1_fscore_best_th=0.2750 | 1_precision_05=0.6821 | 1_precision_best=0.6027 | 1_recall_05=0.6073 | 1_recall_best=0.8174 | 2_fscore_05=0.1937 | 2_fscore_best=0.5120 | 2_fscore_best_th=0.2250 | 2_precision_05=0.4706 | 2_precision_best=0.3674 | 2_recall_05=0.1220 | 2_recall_best=0.8445 | 3_fscore_05=0.4217 | 3_fscore_best=0.5848 | 3_fscore_best_th=0.2500 | 3_precision_05=0.5649 | 3_precision_best=0.4721 | 3_recall_05=0.3364 | 3_recall_best=0.7682 | _base/lr=0.0003 | _base/momentum=0.9000 | _timers/_fps=325.2557 | _timers/batch_time=0.0393 | _timers/data_time=0.0199 | _timers/model_time=0.0194 | fscore_macro_best=0.5718 | loss=0.4254 | loss_bce=0.4254 | macro_f1=0.4034\n",
      "6/100 * Epoch 6 (valid): 0_fscore_05=0.3557 | 0_fscore_best=0.4055 | 0_fscore_best_th=0.6250 | 0_precision_05=0.2552 | 0_precision_best=0.3894 | 0_recall_05=0.5865 | 0_recall_best=0.4231 | 1_fscore_05=0.2581 | 1_fscore_best=0.4324 | 1_fscore_best_th=0.9000 | 1_precision_05=0.1575 | 1_precision_best=0.8889 | 1_recall_05=0.7143 | 1_recall_best=0.2857 | 2_fscore_05=0.3536 | 2_fscore_best=0.6131 | 2_fscore_best_th=0.0750 | 2_precision_05=0.6093 | 2_precision_best=0.4463 | 2_recall_05=0.2490 | 2_recall_best=0.9791 | 3_fscore_05=0.2667 | 3_fscore_best=0.3291 | 3_fscore_best_th=0.3500 | 3_precision_05=0.3000 | 3_precision_best=0.2407 | 3_recall_05=0.2400 | 3_recall_best=0.5200 | _base/lr=0.0003 | _base/momentum=0.9000 | _timers/_fps=325.3736 | _timers/batch_time=0.0275 | _timers/data_time=0.0094 | _timers/model_time=0.0181 | fscore_macro_best=0.4450 | loss=0.3724 | loss_bce=0.3724 | macro_f1=0.3085\n",
      "[2019-10-18 19:37:57,777] \n",
      "7/100 * Epoch 7 (train): 0_fscore_05=0.3833 | 0_fscore_best=0.5286 | 0_fscore_best_th=0.2750 | 0_precision_05=0.6330 | 0_precision_best=0.4577 | 0_recall_05=0.2749 | 0_recall_best=0.6255 | 1_fscore_05=0.6044 | 1_fscore_best=0.6732 | 1_fscore_best_th=0.2750 | 1_precision_05=0.6543 | 1_precision_best=0.5864 | 1_recall_05=0.5616 | 1_recall_best=0.7900 | 2_fscore_05=0.2277 | 2_fscore_best=0.5152 | 2_fscore_best_th=0.2000 | 2_precision_05=0.4513 | 2_precision_best=0.3672 | 2_recall_05=0.1522 | 2_recall_best=0.8627 | 3_fscore_05=0.5429 | 3_fscore_best=0.6183 | 3_fscore_best_th=0.4000 | 3_precision_05=0.6950 | 3_precision_best=0.6377 | 3_recall_05=0.4455 | 3_recall_best=0.6000 | _base/lr=0.0003 | _base/momentum=0.9000 | _timers/_fps=284.0847 | _timers/batch_time=0.2922 | _timers/data_time=0.2703 | _timers/model_time=0.0218 | fscore_macro_best=0.5838 | loss=0.4245 | loss_bce=0.4245 | macro_f1=0.4396\n",
      "7/100 * Epoch 7 (valid): 0_fscore_05=0.3653 | 0_fscore_best=0.3755 | 0_fscore_best_th=0.6000 | 0_precision_05=0.2652 | 0_precision_best=0.3262 | 0_recall_05=0.5865 | 0_recall_best=0.4423 | 1_fscore_05=0.2833 | 1_fscore_best=0.4800 | 1_fscore_best_th=0.8000 | 1_precision_05=0.1848 | 1_precision_best=0.5455 | 1_recall_05=0.6071 | 1_recall_best=0.4286 | 2_fscore_05=0.4069 | 2_fscore_best=0.6587 | 2_fscore_best_th=0.2250 | 2_precision_05=0.6770 | 2_precision_best=0.5432 | 2_recall_05=0.2909 | 2_recall_best=0.8365 | 3_fscore_05=0.3432 | 3_fscore_best=0.3799 | 3_fscore_best_th=0.4750 | 3_precision_05=0.3085 | 3_precision_best=0.3269 | 3_recall_05=0.3867 | 3_recall_best=0.4533 | _base/lr=0.0003 | _base/momentum=0.9000 | _timers/_fps=334.7532 | _timers/batch_time=0.0261 | _timers/data_time=0.0089 | _timers/model_time=0.0172 | fscore_macro_best=0.4735 | loss=0.3422 | loss_bce=0.3422 | macro_f1=0.3497\n",
      "[2019-10-18 19:38:37,409] \n",
      "8/100 * Epoch 8 (train): 0_fscore_05=0.4021 | 0_fscore_best=0.5423 | 0_fscore_best_th=0.3000 | 0_precision_05=0.5984 | 0_precision_best=0.4858 | 0_recall_05=0.3028 | 0_recall_best=0.6135 | 1_fscore_05=0.7391 | 1_fscore_best=0.7517 | 1_fscore_best_th=0.4500 | 1_precision_05=0.7846 | 1_precision_best=0.7642 | 1_recall_05=0.6986 | 1_recall_best=0.7397 | 2_fscore_05=0.2353 | 2_fscore_best=0.5142 | 2_fscore_best_th=0.2000 | 2_precision_05=0.4643 | 2_precision_best=0.3640 | 2_recall_05=0.1576 | 2_recall_best=0.8758 | 3_fscore_05=0.5399 | 3_fscore_best=0.6213 | 3_fscore_best_th=0.3500 | 3_precision_05=0.6853 | 3_precision_best=0.5840 | 3_recall_05=0.4455 | 3_recall_best=0.6636 | _base/lr=0.0003 | _base/momentum=0.9000 | _timers/_fps=303.4530 | _timers/batch_time=0.0346 | _timers/data_time=0.0136 | _timers/model_time=0.0210 | fscore_macro_best=0.6074 | loss=0.4015 | loss_bce=0.4015 | macro_f1=0.4791\n",
      "8/100 * Epoch 8 (valid): 0_fscore_05=0.3431 | 0_fscore_best=0.3516 | 0_fscore_best_th=0.4750 | 0_precision_05=0.3037 | 0_precision_best=0.2961 | 0_recall_05=0.3942 | 0_recall_best=0.4327 | 1_fscore_05=0.2194 | 1_fscore_best=0.4151 | 1_fscore_best_th=0.9750 | 1_precision_05=0.1244 | 1_precision_best=0.4400 | 1_recall_05=0.9286 | 1_recall_best=0.3929 | 2_fscore_05=0.2609 | 2_fscore_best=0.6157 | 2_fscore_best_th=0.0250 | 2_precision_05=0.7119 | 2_precision_best=0.4575 | 2_recall_05=0.1597 | 2_recall_best=0.9411 | 3_fscore_05=0.3623 | 3_fscore_best=0.3776 | 3_fscore_best_th=0.4000 | 3_precision_05=0.3968 | 3_precision_best=0.3058 | 3_recall_05=0.3333 | 3_recall_best=0.4933 | _base/lr=0.0003 | _base/momentum=0.9000 | _timers/_fps=322.4035 | _timers/batch_time=0.0274 | _timers/data_time=0.0092 | _timers/model_time=0.0182 | fscore_macro_best=0.4400 | loss=0.4287 | loss_bce=0.4287 | macro_f1=0.2964\n",
      "[2019-10-18 19:39:16,846] \n",
      "9/100 * Epoch 9 (train): 0_fscore_05=0.4368 | 0_fscore_best=0.5541 | 0_fscore_best_th=0.2750 | 0_precision_05=0.6434 | 0_precision_best=0.4708 | 0_recall_05=0.3307 | 0_recall_best=0.6733 | 1_fscore_05=0.7242 | 1_fscore_best=0.7254 | 1_fscore_best_th=0.3250 | 1_precision_05=0.7626 | 1_precision_best=0.6580 | 1_recall_05=0.6895 | 1_recall_best=0.8082 | 2_fscore_05=0.2661 | 2_fscore_best=0.5455 | 2_fscore_best_th=0.2000 | 2_precision_05=0.4769 | 2_precision_best=0.3910 | 2_recall_05=0.1845 | 2_recall_best=0.9018 | 3_fscore_05=0.5722 | 3_fscore_best=0.6288 | 3_fscore_best_th=0.2750 | 3_precision_05=0.6607 | 3_precision_best=0.5390 | 3_recall_05=0.5045 | 3_recall_best=0.7545 | _base/lr=0.0003 | _base/momentum=0.9000 | _timers/_fps=322.4437 | _timers/batch_time=0.0292 | _timers/data_time=0.0094 | _timers/model_time=0.0197 | fscore_macro_best=0.6134 | loss=0.3978 | loss_bce=0.3978 | macro_f1=0.4998\n",
      "9/100 * Epoch 9 (valid): 0_fscore_05=0.4225 | 0_fscore_best=0.4785 | 0_fscore_best_th=0.6250 | 0_precision_05=0.3333 | 0_precision_best=0.4762 | 0_recall_05=0.5769 | 0_recall_best=0.4808 | 1_fscore_05=0.3590 | 1_fscore_best=0.5185 | 1_fscore_best_th=0.8250 | 1_precision_05=0.2360 | 1_precision_best=0.5385 | 1_recall_05=0.7500 | 1_recall_best=0.5000 | 2_fscore_05=0.2351 | 2_fscore_best=0.6825 | 2_fscore_best_th=0.2000 | 2_precision_05=0.6696 | 2_precision_best=0.5711 | 2_recall_05=0.1426 | 2_recall_best=0.8479 | 3_fscore_05=0.4478 | 3_fscore_best=0.4571 | 3_fscore_best_th=0.4750 | 3_precision_05=0.3571 | 3_precision_best=0.3556 | 3_recall_05=0.6000 | 3_recall_best=0.6400 | _base/lr=0.0003 | _base/momentum=0.9000 | _timers/_fps=321.2614 | _timers/batch_time=0.0273 | _timers/data_time=0.0090 | _timers/model_time=0.0182 | fscore_macro_best=0.5342 | loss=0.3353 | loss_bce=0.3353 | macro_f1=0.3661\n"
     ]
    },
    {
     "name": "stdout",
     "output_type": "stream",
     "text": [
      "[2019-10-18 19:39:57,848] \n",
      "10/100 * Epoch 10 (train): 0_fscore_05=0.4496 | 0_fscore_best=0.5315 | 0_fscore_best_th=0.2500 | 0_precision_05=0.6397 | 0_precision_best=0.4265 | 0_recall_05=0.3466 | 0_recall_best=0.7052 | 1_fscore_05=0.7053 | 1_fscore_best=0.7494 | 1_fscore_best_th=0.4000 | 1_precision_05=0.7487 | 1_precision_best=0.7284 | 1_recall_05=0.6667 | 1_recall_best=0.7717 | 2_fscore_05=0.3064 | 2_fscore_best=0.5565 | 2_fscore_best_th=0.3000 | 2_precision_05=0.5455 | 2_precision_best=0.4450 | 2_recall_05=0.2130 | 2_recall_best=0.7426 | 3_fscore_05=0.6138 | 3_fscore_best=0.6446 | 3_fscore_best_th=0.3000 | 3_precision_05=0.7342 | 3_precision_best=0.5909 | 3_recall_05=0.5273 | 3_recall_best=0.7091 | _base/lr=0.0003 | _base/momentum=0.9000 | _timers/_fps=323.3319 | _timers/batch_time=0.0280 | _timers/data_time=0.0084 | _timers/model_time=0.0195 | fscore_macro_best=0.6205 | loss=0.3977 | loss_bce=0.3977 | macro_f1=0.5188\n",
      "10/100 * Epoch 10 (valid): 0_fscore_05=0.4237 | 0_fscore_best=0.4725 | 0_fscore_best_th=0.6250 | 0_precision_05=0.3788 | 0_precision_best=0.5513 | 0_recall_05=0.4808 | 0_recall_best=0.4135 | 1_fscore_05=0.3014 | 1_fscore_best=0.5333 | 1_fscore_best_th=0.9500 | 1_precision_05=0.1864 | 1_precision_best=0.7059 | 1_recall_05=0.7857 | 1_recall_best=0.4286 | 2_fscore_05=0.3491 | 2_fscore_best=0.6710 | 2_fscore_best_th=0.1500 | 2_precision_05=0.7052 | 2_precision_best=0.5393 | 2_recall_05=0.2319 | 2_recall_best=0.8878 | 3_fscore_05=0.4500 | 3_fscore_best=0.4691 | 3_fscore_best_th=0.6250 | 3_precision_05=0.3600 | 3_precision_best=0.4368 | 3_recall_05=0.6000 | 3_recall_best=0.5067 | _base/lr=0.0003 | _base/momentum=0.9000 | _timers/_fps=332.3262 | _timers/batch_time=0.0262 | _timers/data_time=0.0088 | _timers/model_time=0.0174 | fscore_macro_best=0.5365 | loss=0.3333 | loss_bce=0.3333 | macro_f1=0.3810\n",
      "[2019-10-18 19:40:36,214] \n",
      "11/100 * Epoch 11 (train): 0_fscore_05=0.3916 | 0_fscore_best=0.5338 | 0_fscore_best_th=0.2750 | 0_precision_05=0.5682 | 0_precision_best=0.4551 | 0_recall_05=0.2988 | 0_recall_best=0.6454 | 1_fscore_05=0.7136 | 1_fscore_best=0.7389 | 1_fscore_best_th=0.3500 | 1_precision_05=0.7617 | 1_precision_best=0.6905 | 1_recall_05=0.6712 | 1_recall_best=0.7945 | 2_fscore_05=0.2222 | 2_fscore_best=0.5116 | 2_fscore_best_th=0.2750 | 2_precision_05=0.4336 | 2_precision_best=0.4017 | 2_recall_05=0.1494 | 2_recall_best=0.7043 | 3_fscore_05=0.6005 | 3_fscore_best=0.6375 | 3_fscore_best_th=0.3000 | 3_precision_05=0.6821 | 3_precision_best=0.5885 | 3_recall_05=0.5364 | 3_recall_best=0.6955 | _base/lr=0.0003 | _base/momentum=0.9000 | _timers/_fps=319.2524 | _timers/batch_time=0.0292 | _timers/data_time=0.0090 | _timers/model_time=0.0201 | fscore_macro_best=0.6054 | loss=0.4070 | loss_bce=0.4070 | macro_f1=0.4820\n",
      "11/100 * Epoch 11 (valid): 0_fscore_05=0.4219 | 0_fscore_best=0.4281 | 0_fscore_best_th=0.4000 | 0_precision_05=0.3759 | 0_precision_best=0.3206 | 0_recall_05=0.4808 | 0_recall_best=0.6442 | 1_fscore_05=0.3311 | 1_fscore_best=0.4906 | 1_fscore_best_th=0.8500 | 1_precision_05=0.2033 | 1_precision_best=0.5200 | 1_recall_05=0.8929 | 1_recall_best=0.4643 | 2_fscore_05=0.3515 | 2_fscore_best=0.6639 | 2_fscore_best_th=0.2500 | 2_precision_05=0.6597 | 2_precision_best=0.5242 | 2_recall_05=0.2395 | 2_recall_best=0.9049 | 3_fscore_05=0.3710 | 3_fscore_best=0.3756 | 3_fscore_best_th=0.5750 | 3_precision_05=0.2659 | 3_precision_best=0.3033 | 3_recall_05=0.6133 | 3_recall_best=0.4933 | _base/lr=0.0003 | _base/momentum=0.9000 | _timers/_fps=315.8307 | _timers/batch_time=0.0279 | _timers/data_time=0.0089 | _timers/model_time=0.0189 | fscore_macro_best=0.4895 | loss=0.3357 | loss_bce=0.3357 | macro_f1=0.3689\n",
      "[2019-10-18 19:41:14,645] \n",
      "12/100 * Epoch 12 (train): 0_fscore_05=0.5202 | 0_fscore_best=0.5629 | 0_fscore_best_th=0.3250 | 0_precision_05=0.7103 | 0_precision_best=0.5319 | 0_recall_05=0.4104 | 0_recall_best=0.5976 | 1_fscore_05=0.7596 | 1_fscore_best=0.7860 | 1_fscore_best_th=0.3750 | 1_precision_05=0.8020 | 1_precision_best=0.7531 | 1_recall_05=0.7215 | 1_recall_best=0.8219 | 2_fscore_05=0.3431 | 2_fscore_best=0.5502 | 2_fscore_best_th=0.2000 | 2_precision_05=0.5430 | 2_precision_best=0.3970 | 2_recall_05=0.2508 | 2_recall_best=0.8960 | 3_fscore_05=0.5469 | 3_fscore_best=0.6100 | 3_fscore_best_th=0.3250 | 3_precision_05=0.6667 | 3_precision_best=0.5611 | 3_recall_05=0.4636 | 3_recall_best=0.6682 | _base/lr=0.0003 | _base/momentum=0.9000 | _timers/_fps=307.3956 | _timers/batch_time=0.0301 | _timers/data_time=0.0093 | _timers/model_time=0.0207 | fscore_macro_best=0.6273 | loss=0.3875 | loss_bce=0.3875 | macro_f1=0.5425\n",
      "12/100 * Epoch 12 (valid): 0_fscore_05=0.3763 | 0_fscore_best=0.3865 | 0_fscore_best_th=0.5750 | 0_precision_05=0.2612 | 0_precision_best=0.2838 | 0_recall_05=0.6731 | 0_recall_best=0.6058 | 1_fscore_05=0.2874 | 1_fscore_best=0.4490 | 1_fscore_best_th=0.9500 | 1_precision_05=0.1727 | 1_precision_best=0.5238 | 1_recall_05=0.8571 | 1_recall_best=0.3929 | 2_fscore_05=0.3388 | 2_fscore_best=0.6164 | 2_fscore_best_th=0.0750 | 2_precision_05=0.5057 | 2_precision_best=0.4583 | 2_recall_05=0.2548 | 2_recall_best=0.9411 | 3_fscore_05=0.2759 | 3_fscore_best=0.3348 | 3_fscore_best_th=0.4500 | 3_precision_05=0.2188 | 3_precision_best=0.2500 | 3_recall_05=0.3733 | 3_recall_best=0.5067 | _base/lr=0.0003 | _base/momentum=0.9000 | _timers/_fps=318.8414 | _timers/batch_time=0.0273 | _timers/data_time=0.0090 | _timers/model_time=0.0182 | fscore_macro_best=0.4467 | loss=0.3996 | loss_bce=0.3996 | macro_f1=0.3196\n",
      "[2019-10-18 19:41:52,844] \n",
      "13/100 * Epoch 13 (train): 0_fscore_05=0.4506 | 0_fscore_best=0.5333 | 0_fscore_best_th=0.1500 | 0_precision_05=0.6181 | 0_precision_best=0.3864 | 0_recall_05=0.3546 | 0_recall_best=0.8606 | 1_fscore_05=0.7343 | 1_fscore_best=0.7621 | 1_fscore_best_th=0.4500 | 1_precision_05=0.7795 | 1_precision_best=0.7710 | 1_recall_05=0.6941 | 1_recall_best=0.7534 | 2_fscore_05=0.3354 | 2_fscore_best=0.5449 | 2_fscore_best_th=0.2750 | 2_precision_05=0.5290 | 2_precision_best=0.4293 | 2_recall_05=0.2455 | 2_recall_best=0.7455 | 3_fscore_05=0.5995 | 3_fscore_best=0.6540 | 3_fscore_best_th=0.4250 | 3_precision_05=0.6946 | 3_precision_best=0.6832 | 3_recall_05=0.5273 | 3_recall_best=0.6273 | _base/lr=0.0003 | _base/momentum=0.9000 | _timers/_fps=317.6282 | _timers/batch_time=0.0286 | _timers/data_time=0.0085 | _timers/model_time=0.0201 | fscore_macro_best=0.6236 | loss=0.3898 | loss_bce=0.3898 | macro_f1=0.5299\n",
      "13/100 * Epoch 13 (valid): 0_fscore_05=0.3170 | 0_fscore_best=0.4978 | 0_fscore_best_th=0.8250 | 0_precision_05=0.1990 | 0_precision_best=0.4560 | 0_recall_05=0.7788 | 0_recall_best=0.5481 | 1_fscore_05=0.2767 | 1_fscore_best=0.5085 | 1_fscore_best_th=0.9250 | 1_precision_05=0.1679 | 1_precision_best=0.4839 | 1_recall_05=0.7857 | 1_recall_best=0.5357 | 2_fscore_05=0.1878 | 2_fscore_best=0.6653 | 2_fscore_best_th=0.1000 | 2_precision_05=0.7037 | 2_precision_best=0.5222 | 2_recall_05=0.1084 | 2_recall_best=0.9163 | 3_fscore_05=0.5030 | 3_fscore_best=0.5032 | 3_fscore_best_th=0.5500 | 3_precision_05=0.4565 | 3_precision_best=0.4875 | 3_recall_05=0.5600 | 3_recall_best=0.5200 | _base/lr=0.0003 | _base/momentum=0.9000 | _timers/_fps=349.1948 | _timers/batch_time=0.0253 | _timers/data_time=0.0090 | _timers/model_time=0.0162 | fscore_macro_best=0.5437 | loss=0.4156 | loss_bce=0.4156 | macro_f1=0.3211\n",
      "[2019-10-18 19:42:31,286] \n",
      "14/100 * Epoch 14 (train): 0_fscore_05=0.4656 | 0_fscore_best=0.5431 | 0_fscore_best_th=0.3750 | 0_precision_05=0.6929 | 0_precision_best=0.5915 | 0_recall_05=0.3506 | 0_recall_best=0.5020 | 1_fscore_05=0.7324 | 1_fscore_best=0.7426 | 1_fscore_best_th=0.4500 | 1_precision_05=0.7536 | 1_precision_best=0.7409 | 1_recall_05=0.7123 | 1_recall_best=0.7443 | 2_fscore_05=0.3953 | 2_fscore_best=0.5655 | 2_fscore_best_th=0.2500 | 2_precision_05=0.5397 | 2_precision_best=0.4379 | 2_recall_05=0.3119 | 2_recall_best=0.7982 | 3_fscore_05=0.6158 | 3_fscore_best=0.6821 | 3_fscore_best_th=0.3250 | 3_precision_05=0.7312 | 3_precision_best=0.6353 | 3_recall_05=0.5318 | 3_recall_best=0.7364 | _base/lr=0.0003 | _base/momentum=0.9000 | _timers/_fps=315.7893 | _timers/batch_time=0.0296 | _timers/data_time=0.0095 | _timers/model_time=0.0201 | fscore_macro_best=0.6333 | loss=0.3829 | loss_bce=0.3829 | macro_f1=0.5523\n",
      "14/100 * Epoch 14 (valid): 0_fscore_05=0.3486 | 0_fscore_best=0.4813 | 0_fscore_best_th=0.8500 | 0_precision_05=0.2289 | 0_precision_best=0.5422 | 0_recall_05=0.7308 | 0_recall_best=0.4327 | 1_fscore_05=0.3289 | 1_fscore_best=0.5217 | 1_fscore_best_th=0.9250 | 1_precision_05=0.2016 | 1_precision_best=0.6667 | 1_recall_05=0.8929 | 1_recall_best=0.4286 | 2_fscore_05=0.3305 | 2_fscore_best=0.6459 | 2_fscore_best_th=0.1000 | 2_precision_05=0.6429 | 2_precision_best=0.4959 | 2_recall_05=0.2224 | 2_recall_best=0.9259 | 3_fscore_05=0.3780 | 3_fscore_best=0.3932 | 3_fscore_best_th=0.3250 | 3_precision_05=0.3483 | 3_precision_best=0.2893 | 3_recall_05=0.4133 | 3_recall_best=0.6133 | _base/lr=0.0003 | _base/momentum=0.9000 | _timers/_fps=325.7498 | _timers/batch_time=0.0268 | _timers/data_time=0.0090 | _timers/model_time=0.0178 | fscore_macro_best=0.5105 | loss=0.3928 | loss_bce=0.3928 | macro_f1=0.3465\n"
     ]
    },
    {
     "name": "stdout",
     "output_type": "stream",
     "text": [
      "[2019-10-18 19:43:11,443] \n",
      "15/100 * Epoch 15 (train): 0_fscore_05=0.4645 | 0_fscore_best=0.5469 | 0_fscore_best_th=0.2000 | 0_precision_05=0.6013 | 0_precision_best=0.4153 | 0_recall_05=0.3785 | 0_recall_best=0.8008 | 1_fscore_05=0.7518 | 1_fscore_best=0.7820 | 1_fscore_best_th=0.4000 | 1_precision_05=0.7959 | 1_precision_best=0.7699 | 1_recall_05=0.7123 | 1_recall_best=0.7945 | 2_fscore_05=0.3713 | 2_fscore_best=0.5604 | 2_fscore_best_th=0.3250 | 2_precision_05=0.5471 | 2_precision_best=0.4767 | 2_recall_05=0.2810 | 2_recall_best=0.6798 | 3_fscore_05=0.6473 | 3_fscore_best=0.6816 | 3_fscore_best_th=0.3250 | 3_precision_05=0.6907 | 3_precision_best=0.6185 | 3_recall_05=0.6091 | 3_recall_best=0.7591 | _base/lr=0.0002 | _base/momentum=0.9000 | _timers/_fps=321.6021 | _timers/batch_time=0.0287 | _timers/data_time=0.0088 | _timers/model_time=0.0198 | fscore_macro_best=0.6427 | loss=0.3755 | loss_bce=0.3755 | macro_f1=0.5587\n",
      "15/100 * Epoch 15 (valid): 0_fscore_05=0.4807 | 0_fscore_best=0.4950 | 0_fscore_best_th=0.5500 | 0_precision_05=0.4341 | 0_precision_best=0.5102 | 0_recall_05=0.5385 | 0_recall_best=0.4808 | 1_fscore_05=0.3000 | 1_fscore_best=0.3750 | 1_fscore_best_th=0.9500 | 1_precision_05=0.1875 | 1_precision_best=0.4500 | 1_recall_05=0.7500 | 1_recall_best=0.3214 | 2_fscore_05=0.3755 | 2_fscore_best=0.6932 | 2_fscore_best_th=0.2500 | 2_precision_05=0.8012 | 2_precision_best=0.6048 | 2_recall_05=0.2452 | 2_recall_best=0.8118 | 3_fscore_05=0.3873 | 3_fscore_best=0.4970 | 3_fscore_best_th=0.8500 | 3_precision_05=0.2542 | 3_precision_best=0.4468 | 3_recall_05=0.8133 | 3_recall_best=0.5600 | _base/lr=0.0002 | _base/momentum=0.9000 | _timers/_fps=330.9220 | _timers/batch_time=0.0267 | _timers/data_time=0.0091 | _timers/model_time=0.0174 | fscore_macro_best=0.5151 | loss=0.3500 | loss_bce=0.3500 | macro_f1=0.3859\n"
     ]
    },
    {
     "ename": "KeyboardInterrupt",
     "evalue": "",
     "output_type": "error",
     "traceback": [
      "\u001b[0;31m---------------------------------------------------------------------------\u001b[0m",
      "\u001b[0;31mKeyboardInterrupt\u001b[0m                         Traceback (most recent call last)",
      "\u001b[0;32m<ipython-input-31-3eeb185eaa6a>\u001b[0m in \u001b[0;36m<module>\u001b[0;34m\u001b[0m\n\u001b[1;32m     25\u001b[0m     \u001b[0mnum_epochs\u001b[0m\u001b[0;34m=\u001b[0m\u001b[0mNUM_EPOCHS\u001b[0m\u001b[0;34m,\u001b[0m\u001b[0;34m\u001b[0m\u001b[0;34m\u001b[0m\u001b[0m\n\u001b[1;32m     26\u001b[0m \u001b[0;31m#     fp16={\"opt_level\": \"O1\"},\u001b[0m\u001b[0;34m\u001b[0m\u001b[0;34m\u001b[0m\u001b[0;34m\u001b[0m\u001b[0m\n\u001b[0;32m---> 27\u001b[0;31m     \u001b[0mverbose\u001b[0m\u001b[0;34m=\u001b[0m\u001b[0;32mFalse\u001b[0m\u001b[0;34m\u001b[0m\u001b[0;34m\u001b[0m\u001b[0m\n\u001b[0m\u001b[1;32m     28\u001b[0m )\n",
      "\u001b[0;32m~/anaconda3/lib/python3.7/site-packages/catalyst/dl/runner/supervised.py\u001b[0m in \u001b[0;36mtrain\u001b[0;34m(self, model, criterion, optimizer, loaders, logdir, callbacks, scheduler, resume, num_epochs, valid_loader, main_metric, minimize_metric, verbose, state_kwargs, checkpoint_data, fp16, monitoring_params, check)\u001b[0m\n\u001b[1;32m    195\u001b[0m             \u001b[0mmonitoring_params\u001b[0m\u001b[0;34m=\u001b[0m\u001b[0mmonitoring_params\u001b[0m\u001b[0;34m\u001b[0m\u001b[0;34m\u001b[0m\u001b[0m\n\u001b[1;32m    196\u001b[0m         )\n\u001b[0;32m--> 197\u001b[0;31m         \u001b[0mself\u001b[0m\u001b[0;34m.\u001b[0m\u001b[0mrun_experiment\u001b[0m\u001b[0;34m(\u001b[0m\u001b[0mexperiment\u001b[0m\u001b[0;34m,\u001b[0m \u001b[0mcheck\u001b[0m\u001b[0;34m=\u001b[0m\u001b[0mcheck\u001b[0m\u001b[0;34m)\u001b[0m\u001b[0;34m\u001b[0m\u001b[0;34m\u001b[0m\u001b[0m\n\u001b[0m\u001b[1;32m    198\u001b[0m \u001b[0;34m\u001b[0m\u001b[0m\n\u001b[1;32m    199\u001b[0m     def infer(\n",
      "\u001b[0;32m~/anaconda3/lib/python3.7/site-packages/catalyst/dl/core/runner.py\u001b[0m in \u001b[0;36mrun_experiment\u001b[0;34m(self, experiment, check)\u001b[0m\n\u001b[1;32m    229\u001b[0m         \u001b[0;32mexcept\u001b[0m \u001b[0;34m(\u001b[0m\u001b[0mException\u001b[0m\u001b[0;34m,\u001b[0m \u001b[0mKeyboardInterrupt\u001b[0m\u001b[0;34m)\u001b[0m \u001b[0;32mas\u001b[0m \u001b[0mex\u001b[0m\u001b[0;34m:\u001b[0m\u001b[0;34m\u001b[0m\u001b[0;34m\u001b[0m\u001b[0m\n\u001b[1;32m    230\u001b[0m             \u001b[0mself\u001b[0m\u001b[0;34m.\u001b[0m\u001b[0mstate\u001b[0m\u001b[0;34m.\u001b[0m\u001b[0mexception\u001b[0m \u001b[0;34m=\u001b[0m \u001b[0mex\u001b[0m\u001b[0;34m\u001b[0m\u001b[0;34m\u001b[0m\u001b[0m\n\u001b[0;32m--> 231\u001b[0;31m             \u001b[0mself\u001b[0m\u001b[0;34m.\u001b[0m\u001b[0m_run_event\u001b[0m\u001b[0;34m(\u001b[0m\u001b[0;34m\"exception\"\u001b[0m\u001b[0;34m)\u001b[0m\u001b[0;34m\u001b[0m\u001b[0;34m\u001b[0m\u001b[0m\n\u001b[0m\u001b[1;32m    232\u001b[0m \u001b[0;34m\u001b[0m\u001b[0m\n\u001b[1;32m    233\u001b[0m         \u001b[0;32mreturn\u001b[0m \u001b[0mself\u001b[0m\u001b[0;34m\u001b[0m\u001b[0;34m\u001b[0m\u001b[0m\n",
      "\u001b[0;32m~/anaconda3/lib/python3.7/site-packages/catalyst/dl/core/runner.py\u001b[0m in \u001b[0;36m_run_event\u001b[0;34m(self, event)\u001b[0m\n\u001b[1;32m    100\u001b[0m \u001b[0;34m\u001b[0m\u001b[0m\n\u001b[1;32m    101\u001b[0m         \u001b[0;32mif\u001b[0m \u001b[0mself\u001b[0m\u001b[0;34m.\u001b[0m\u001b[0mstate\u001b[0m \u001b[0;32mis\u001b[0m \u001b[0;32mnot\u001b[0m \u001b[0;32mNone\u001b[0m \u001b[0;32mand\u001b[0m \u001b[0mhasattr\u001b[0m\u001b[0;34m(\u001b[0m\u001b[0mself\u001b[0m\u001b[0;34m.\u001b[0m\u001b[0mstate\u001b[0m\u001b[0;34m,\u001b[0m \u001b[0;34mf\"on_{event}_post\"\u001b[0m\u001b[0;34m)\u001b[0m\u001b[0;34m:\u001b[0m\u001b[0;34m\u001b[0m\u001b[0;34m\u001b[0m\u001b[0m\n\u001b[0;32m--> 102\u001b[0;31m             \u001b[0mgetattr\u001b[0m\u001b[0;34m(\u001b[0m\u001b[0mself\u001b[0m\u001b[0;34m.\u001b[0m\u001b[0mstate\u001b[0m\u001b[0;34m,\u001b[0m \u001b[0;34mf\"on_{event}_post\"\u001b[0m\u001b[0;34m)\u001b[0m\u001b[0;34m(\u001b[0m\u001b[0;34m)\u001b[0m\u001b[0;34m\u001b[0m\u001b[0;34m\u001b[0m\u001b[0m\n\u001b[0m\u001b[1;32m    103\u001b[0m \u001b[0;34m\u001b[0m\u001b[0m\n\u001b[1;32m    104\u001b[0m     \u001b[0;34m@\u001b[0m\u001b[0mabstractmethod\u001b[0m\u001b[0;34m\u001b[0m\u001b[0;34m\u001b[0m\u001b[0m\n",
      "\u001b[0;32m~/anaconda3/lib/python3.7/site-packages/catalyst/dl/core/state.py\u001b[0m in \u001b[0;36mon_exception_post\u001b[0;34m(self)\u001b[0m\n\u001b[1;32m    183\u001b[0m     \u001b[0;32mdef\u001b[0m \u001b[0mon_exception_post\u001b[0m\u001b[0;34m(\u001b[0m\u001b[0mself\u001b[0m\u001b[0;34m)\u001b[0m\u001b[0;34m:\u001b[0m\u001b[0;34m\u001b[0m\u001b[0;34m\u001b[0m\u001b[0m\n\u001b[1;32m    184\u001b[0m         \u001b[0;32mfor\u001b[0m \u001b[0mlogger\u001b[0m \u001b[0;32min\u001b[0m \u001b[0mself\u001b[0m\u001b[0;34m.\u001b[0m\u001b[0mloggers\u001b[0m\u001b[0;34m.\u001b[0m\u001b[0mvalues\u001b[0m\u001b[0;34m(\u001b[0m\u001b[0;34m)\u001b[0m\u001b[0;34m:\u001b[0m\u001b[0;34m\u001b[0m\u001b[0;34m\u001b[0m\u001b[0m\n\u001b[0;32m--> 185\u001b[0;31m             \u001b[0mlogger\u001b[0m\u001b[0;34m.\u001b[0m\u001b[0mon_exception\u001b[0m\u001b[0;34m(\u001b[0m\u001b[0mself\u001b[0m\u001b[0;34m)\u001b[0m\u001b[0;34m\u001b[0m\u001b[0;34m\u001b[0m\u001b[0m\n\u001b[0m\u001b[1;32m    186\u001b[0m \u001b[0;34m\u001b[0m\u001b[0m\n\u001b[1;32m    187\u001b[0m \u001b[0;34m\u001b[0m\u001b[0m\n",
      "\u001b[0;32m~/anaconda3/lib/python3.7/site-packages/catalyst/dl/callbacks/logging.py\u001b[0m in \u001b[0;36mon_exception\u001b[0;34m(self, state)\u001b[0m\n\u001b[1;32m    194\u001b[0m \u001b[0;34m\u001b[0m\u001b[0m\n\u001b[1;32m    195\u001b[0m         \u001b[0;32mif\u001b[0m \u001b[0mstate\u001b[0m\u001b[0;34m.\u001b[0m\u001b[0mneed_reraise_exception\u001b[0m\u001b[0;34m:\u001b[0m\u001b[0;34m\u001b[0m\u001b[0;34m\u001b[0m\u001b[0m\n\u001b[0;32m--> 196\u001b[0;31m             \u001b[0;32mraise\u001b[0m \u001b[0mexception\u001b[0m\u001b[0;34m\u001b[0m\u001b[0;34m\u001b[0m\u001b[0m\n\u001b[0m\u001b[1;32m    197\u001b[0m \u001b[0;34m\u001b[0m\u001b[0m\n\u001b[1;32m    198\u001b[0m \u001b[0;34m\u001b[0m\u001b[0m\n",
      "\u001b[0;32m~/anaconda3/lib/python3.7/site-packages/catalyst/dl/core/runner.py\u001b[0m in \u001b[0;36mrun_experiment\u001b[0;34m(self, experiment, check)\u001b[0m\n\u001b[1;32m    226\u001b[0m         \u001b[0;32mtry\u001b[0m\u001b[0;34m:\u001b[0m\u001b[0;34m\u001b[0m\u001b[0;34m\u001b[0m\u001b[0m\n\u001b[1;32m    227\u001b[0m             \u001b[0;32mfor\u001b[0m \u001b[0mstage\u001b[0m \u001b[0;32min\u001b[0m \u001b[0mself\u001b[0m\u001b[0;34m.\u001b[0m\u001b[0mexperiment\u001b[0m\u001b[0;34m.\u001b[0m\u001b[0mstages\u001b[0m\u001b[0;34m:\u001b[0m\u001b[0;34m\u001b[0m\u001b[0;34m\u001b[0m\u001b[0m\n\u001b[0;32m--> 228\u001b[0;31m                 \u001b[0mself\u001b[0m\u001b[0;34m.\u001b[0m\u001b[0m_run_stage\u001b[0m\u001b[0;34m(\u001b[0m\u001b[0mstage\u001b[0m\u001b[0;34m)\u001b[0m\u001b[0;34m\u001b[0m\u001b[0;34m\u001b[0m\u001b[0m\n\u001b[0m\u001b[1;32m    229\u001b[0m         \u001b[0;32mexcept\u001b[0m \u001b[0;34m(\u001b[0m\u001b[0mException\u001b[0m\u001b[0;34m,\u001b[0m \u001b[0mKeyboardInterrupt\u001b[0m\u001b[0;34m)\u001b[0m \u001b[0;32mas\u001b[0m \u001b[0mex\u001b[0m\u001b[0;34m:\u001b[0m\u001b[0;34m\u001b[0m\u001b[0;34m\u001b[0m\u001b[0m\n\u001b[1;32m    230\u001b[0m             \u001b[0mself\u001b[0m\u001b[0;34m.\u001b[0m\u001b[0mstate\u001b[0m\u001b[0;34m.\u001b[0m\u001b[0mexception\u001b[0m \u001b[0;34m=\u001b[0m \u001b[0mex\u001b[0m\u001b[0;34m\u001b[0m\u001b[0;34m\u001b[0m\u001b[0m\n",
      "\u001b[0;32m~/anaconda3/lib/python3.7/site-packages/catalyst/dl/core/runner.py\u001b[0m in \u001b[0;36m_run_stage\u001b[0;34m(self, stage)\u001b[0m\n\u001b[1;32m    199\u001b[0m \u001b[0;34m\u001b[0m\u001b[0m\n\u001b[1;32m    200\u001b[0m             \u001b[0mself\u001b[0m\u001b[0;34m.\u001b[0m\u001b[0m_run_event\u001b[0m\u001b[0;34m(\u001b[0m\u001b[0;34m\"epoch_start\"\u001b[0m\u001b[0;34m)\u001b[0m\u001b[0;34m\u001b[0m\u001b[0;34m\u001b[0m\u001b[0m\n\u001b[0;32m--> 201\u001b[0;31m             \u001b[0mself\u001b[0m\u001b[0;34m.\u001b[0m\u001b[0m_run_epoch\u001b[0m\u001b[0;34m(\u001b[0m\u001b[0mloaders\u001b[0m\u001b[0;34m)\u001b[0m\u001b[0;34m\u001b[0m\u001b[0;34m\u001b[0m\u001b[0m\n\u001b[0m\u001b[1;32m    202\u001b[0m             \u001b[0mself\u001b[0m\u001b[0;34m.\u001b[0m\u001b[0m_run_event\u001b[0m\u001b[0;34m(\u001b[0m\u001b[0;34m\"epoch_end\"\u001b[0m\u001b[0;34m)\u001b[0m\u001b[0;34m\u001b[0m\u001b[0;34m\u001b[0m\u001b[0m\n\u001b[1;32m    203\u001b[0m \u001b[0;34m\u001b[0m\u001b[0m\n",
      "\u001b[0;32m~/anaconda3/lib/python3.7/site-packages/catalyst/dl/core/runner.py\u001b[0m in \u001b[0;36m_run_epoch\u001b[0;34m(self, loaders)\u001b[0m\n\u001b[1;32m    186\u001b[0m             \u001b[0mself\u001b[0m\u001b[0;34m.\u001b[0m\u001b[0m_run_event\u001b[0m\u001b[0;34m(\u001b[0m\u001b[0;34m\"loader_start\"\u001b[0m\u001b[0;34m)\u001b[0m\u001b[0;34m\u001b[0m\u001b[0;34m\u001b[0m\u001b[0m\n\u001b[1;32m    187\u001b[0m             \u001b[0;32mwith\u001b[0m \u001b[0mtorch\u001b[0m\u001b[0;34m.\u001b[0m\u001b[0mset_grad_enabled\u001b[0m\u001b[0;34m(\u001b[0m\u001b[0mself\u001b[0m\u001b[0;34m.\u001b[0m\u001b[0mstate\u001b[0m\u001b[0;34m.\u001b[0m\u001b[0mneed_backward\u001b[0m\u001b[0;34m)\u001b[0m\u001b[0;34m:\u001b[0m\u001b[0;34m\u001b[0m\u001b[0;34m\u001b[0m\u001b[0m\n\u001b[0;32m--> 188\u001b[0;31m                 \u001b[0mself\u001b[0m\u001b[0;34m.\u001b[0m\u001b[0m_run_loader\u001b[0m\u001b[0;34m(\u001b[0m\u001b[0mloader\u001b[0m\u001b[0;34m)\u001b[0m\u001b[0;34m\u001b[0m\u001b[0;34m\u001b[0m\u001b[0m\n\u001b[0m\u001b[1;32m    189\u001b[0m             \u001b[0mself\u001b[0m\u001b[0;34m.\u001b[0m\u001b[0m_run_event\u001b[0m\u001b[0;34m(\u001b[0m\u001b[0;34m\"loader_end\"\u001b[0m\u001b[0;34m)\u001b[0m\u001b[0;34m\u001b[0m\u001b[0;34m\u001b[0m\u001b[0m\n\u001b[1;32m    190\u001b[0m \u001b[0;34m\u001b[0m\u001b[0m\n",
      "\u001b[0;32m~/anaconda3/lib/python3.7/site-packages/catalyst/dl/core/runner.py\u001b[0m in \u001b[0;36m_run_loader\u001b[0;34m(self, loader)\u001b[0m\n\u001b[1;32m    148\u001b[0m \u001b[0;34m\u001b[0m\u001b[0m\n\u001b[1;32m    149\u001b[0m         \u001b[0;32mfor\u001b[0m \u001b[0mi\u001b[0m\u001b[0;34m,\u001b[0m \u001b[0mbatch\u001b[0m \u001b[0;32min\u001b[0m \u001b[0menumerate\u001b[0m\u001b[0;34m(\u001b[0m\u001b[0mloader\u001b[0m\u001b[0;34m)\u001b[0m\u001b[0;34m:\u001b[0m\u001b[0;34m\u001b[0m\u001b[0;34m\u001b[0m\u001b[0m\n\u001b[0;32m--> 150\u001b[0;31m             \u001b[0mself\u001b[0m\u001b[0;34m.\u001b[0m\u001b[0m_run_batch\u001b[0m\u001b[0;34m(\u001b[0m\u001b[0mbatch\u001b[0m\u001b[0;34m)\u001b[0m\u001b[0;34m\u001b[0m\u001b[0;34m\u001b[0m\u001b[0m\n\u001b[0m\u001b[1;32m    151\u001b[0m \u001b[0;34m\u001b[0m\u001b[0m\n\u001b[1;32m    152\u001b[0m             \u001b[0mself\u001b[0m\u001b[0;34m.\u001b[0m\u001b[0mstate\u001b[0m\u001b[0;34m.\u001b[0m\u001b[0mtimer\u001b[0m\u001b[0;34m.\u001b[0m\u001b[0mreset\u001b[0m\u001b[0;34m(\u001b[0m\u001b[0;34m)\u001b[0m\u001b[0;34m\u001b[0m\u001b[0;34m\u001b[0m\u001b[0m\n",
      "\u001b[0;32m~/anaconda3/lib/python3.7/site-packages/catalyst/dl/core/runner.py\u001b[0m in \u001b[0;36m_run_batch\u001b[0;34m(self, batch)\u001b[0m\n\u001b[1;32m    121\u001b[0m     \u001b[0;32mdef\u001b[0m \u001b[0m_run_batch\u001b[0m\u001b[0;34m(\u001b[0m\u001b[0mself\u001b[0m\u001b[0;34m,\u001b[0m \u001b[0mbatch\u001b[0m\u001b[0;34m)\u001b[0m\u001b[0;34m:\u001b[0m\u001b[0;34m\u001b[0m\u001b[0;34m\u001b[0m\u001b[0m\n\u001b[1;32m    122\u001b[0m         \u001b[0mself\u001b[0m\u001b[0;34m.\u001b[0m\u001b[0mstate\u001b[0m\u001b[0;34m.\u001b[0m\u001b[0mstep\u001b[0m \u001b[0;34m+=\u001b[0m \u001b[0mself\u001b[0m\u001b[0;34m.\u001b[0m\u001b[0mstate\u001b[0m\u001b[0;34m.\u001b[0m\u001b[0mbatch_size\u001b[0m\u001b[0;34m\u001b[0m\u001b[0;34m\u001b[0m\u001b[0m\n\u001b[0;32m--> 123\u001b[0;31m         \u001b[0mbatch\u001b[0m \u001b[0;34m=\u001b[0m \u001b[0mself\u001b[0m\u001b[0;34m.\u001b[0m\u001b[0m_batch2device\u001b[0m\u001b[0;34m(\u001b[0m\u001b[0mbatch\u001b[0m\u001b[0;34m,\u001b[0m \u001b[0mself\u001b[0m\u001b[0;34m.\u001b[0m\u001b[0mdevice\u001b[0m\u001b[0;34m)\u001b[0m\u001b[0;34m\u001b[0m\u001b[0;34m\u001b[0m\u001b[0m\n\u001b[0m\u001b[1;32m    124\u001b[0m         \u001b[0mself\u001b[0m\u001b[0;34m.\u001b[0m\u001b[0mstate\u001b[0m\u001b[0;34m.\u001b[0m\u001b[0minput\u001b[0m \u001b[0;34m=\u001b[0m \u001b[0mbatch\u001b[0m\u001b[0;34m\u001b[0m\u001b[0;34m\u001b[0m\u001b[0m\n\u001b[1;32m    125\u001b[0m         \u001b[0mself\u001b[0m\u001b[0;34m.\u001b[0m\u001b[0mstate\u001b[0m\u001b[0;34m.\u001b[0m\u001b[0mtimer\u001b[0m\u001b[0;34m.\u001b[0m\u001b[0mstop\u001b[0m\u001b[0;34m(\u001b[0m\u001b[0;34m\"_timers/data_time\"\u001b[0m\u001b[0;34m)\u001b[0m\u001b[0;34m\u001b[0m\u001b[0;34m\u001b[0m\u001b[0m\n",
      "\u001b[0;32m~/anaconda3/lib/python3.7/site-packages/catalyst/dl/runner/supervised.py\u001b[0m in \u001b[0;36m_batch2device\u001b[0;34m(self, batch, device)\u001b[0m\n\u001b[1;32m     58\u001b[0m             \u001b[0;32massert\u001b[0m \u001b[0mlen\u001b[0m\u001b[0;34m(\u001b[0m\u001b[0mbatch\u001b[0m\u001b[0;34m)\u001b[0m \u001b[0;34m==\u001b[0m \u001b[0;36m2\u001b[0m\u001b[0;34m\u001b[0m\u001b[0;34m\u001b[0m\u001b[0m\n\u001b[1;32m     59\u001b[0m             \u001b[0mbatch\u001b[0m \u001b[0;34m=\u001b[0m \u001b[0;34m{\u001b[0m\u001b[0mself\u001b[0m\u001b[0;34m.\u001b[0m\u001b[0minput_key\u001b[0m\u001b[0;34m:\u001b[0m \u001b[0mbatch\u001b[0m\u001b[0;34m[\u001b[0m\u001b[0;36m0\u001b[0m\u001b[0;34m]\u001b[0m\u001b[0;34m,\u001b[0m \u001b[0mself\u001b[0m\u001b[0;34m.\u001b[0m\u001b[0mtarget_key\u001b[0m\u001b[0;34m:\u001b[0m \u001b[0mbatch\u001b[0m\u001b[0;34m[\u001b[0m\u001b[0;36m1\u001b[0m\u001b[0;34m]\u001b[0m\u001b[0;34m}\u001b[0m\u001b[0;34m\u001b[0m\u001b[0;34m\u001b[0m\u001b[0m\n\u001b[0;32m---> 60\u001b[0;31m         \u001b[0mbatch\u001b[0m \u001b[0;34m=\u001b[0m \u001b[0msuper\u001b[0m\u001b[0;34m(\u001b[0m\u001b[0;34m)\u001b[0m\u001b[0;34m.\u001b[0m\u001b[0m_batch2device\u001b[0m\u001b[0;34m(\u001b[0m\u001b[0mbatch\u001b[0m\u001b[0;34m,\u001b[0m \u001b[0mdevice\u001b[0m\u001b[0;34m)\u001b[0m\u001b[0;34m\u001b[0m\u001b[0;34m\u001b[0m\u001b[0m\n\u001b[0m\u001b[1;32m     61\u001b[0m         \u001b[0;32mreturn\u001b[0m \u001b[0mbatch\u001b[0m\u001b[0;34m\u001b[0m\u001b[0;34m\u001b[0m\u001b[0m\n\u001b[1;32m     62\u001b[0m \u001b[0;34m\u001b[0m\u001b[0m\n",
      "\u001b[0;32m~/anaconda3/lib/python3.7/site-packages/catalyst/dl/core/runner.py\u001b[0m in \u001b[0;36m_batch2device\u001b[0;34m(self, batch, device)\u001b[0m\n\u001b[1;32m     36\u001b[0m         \u001b[0mself\u001b[0m\u001b[0;34m.\u001b[0m\u001b[0m_check_run\u001b[0m \u001b[0;34m=\u001b[0m \u001b[0;32mFalse\u001b[0m\u001b[0;34m\u001b[0m\u001b[0;34m\u001b[0m\u001b[0m\n\u001b[1;32m     37\u001b[0m \u001b[0;34m\u001b[0m\u001b[0m\n\u001b[0;32m---> 38\u001b[0;31m     \u001b[0;32mdef\u001b[0m \u001b[0m_batch2device\u001b[0m\u001b[0;34m(\u001b[0m\u001b[0mself\u001b[0m\u001b[0;34m,\u001b[0m \u001b[0mbatch\u001b[0m\u001b[0;34m:\u001b[0m \u001b[0mMapping\u001b[0m\u001b[0;34m[\u001b[0m\u001b[0mstr\u001b[0m\u001b[0;34m,\u001b[0m \u001b[0mAny\u001b[0m\u001b[0;34m]\u001b[0m\u001b[0;34m,\u001b[0m \u001b[0mdevice\u001b[0m\u001b[0;34m)\u001b[0m\u001b[0;34m:\u001b[0m\u001b[0;34m\u001b[0m\u001b[0;34m\u001b[0m\u001b[0m\n\u001b[0m\u001b[1;32m     39\u001b[0m         \u001b[0mres\u001b[0m \u001b[0;34m=\u001b[0m \u001b[0mutils\u001b[0m\u001b[0;34m.\u001b[0m\u001b[0many2device\u001b[0m\u001b[0;34m(\u001b[0m\u001b[0mbatch\u001b[0m\u001b[0;34m,\u001b[0m \u001b[0mdevice\u001b[0m\u001b[0;34m)\u001b[0m\u001b[0;34m\u001b[0m\u001b[0;34m\u001b[0m\u001b[0m\n\u001b[1;32m     40\u001b[0m         \u001b[0;32mreturn\u001b[0m \u001b[0mres\u001b[0m\u001b[0;34m\u001b[0m\u001b[0;34m\u001b[0m\u001b[0m\n",
      "\u001b[0;31mKeyboardInterrupt\u001b[0m: "
     ]
    }
   ],
   "source": [
    "runner.train(\n",
    "    model=model,\n",
    "    criterion=criterion,\n",
    "    scheduler=scheduler,\n",
    "    callbacks=[               \n",
    "        \n",
    "               CriterionCallback(prefix=\"loss_bce\",input_key='targets',\n",
    "                     criterion_key='bce', multiplier=1.),\n",
    "\n",
    "               CriterionAggregatorCallback(prefix=\"loss\",loss_keys=[ 'loss_bce']),\n",
    "        \n",
    "        \n",
    "               CheckpointCallback(save_n_best=3),\n",
    "        \n",
    "               MacroF1Callback(),\n",
    "        \n",
    "               ConfusionMatrixCallback()],\n",
    "               \n",
    "\n",
    "    optimizer=optimizer,\n",
    "    main_metric='macro_f1',\n",
    "    minimize_metric=False,\n",
    "    loaders=loaders,\n",
    "    logdir=logdir,\n",
    "    num_epochs=NUM_EPOCHS,\n",
    "#     fp16={\"opt_level\": \"O1\"},\n",
    "    verbose=False\n",
    ")"
   ]
  },
  {
   "cell_type": "code",
   "execution_count": null,
   "metadata": {
    "ExecuteTime": {
     "end_time": "2019-10-18T16:43:38.864490Z",
     "start_time": "2019-10-18T16:30:49.509Z"
    }
   },
   "outputs": [],
   "source": [
    "next(loaders['train'])"
   ]
  },
  {
   "cell_type": "raw",
   "metadata": {},
   "source": [
    "79/200 * Epoch 79 (valid): 0_fscore_05=0.8584 | 0_fscore_best=0.8981 | 0_fscore_best_th=0.6750 | 0_precision_05=0.7951 | 0_precision_best=0.8661 | 0_recall_05=0.9327 | 0_recall_best=0.9327 | 1_fscore_05=0.8679 | 1_fscore_best=0.8846 | 1_fscore_best_th=0.5750 | 1_precision_05=0.9200 | 1_precision_best=0.9583 | 1_recall_05=0.8214 | 1_recall_best=0.8214 | 2_fscore_05=0.9244 | 2_fscore_best=0.9251 | 2_fscore_best_th=0.4250 | 2_precision_05=0.9427 | 2_precision_best=0.9341 | 2_recall_05=0.9068 | 2_recall_best=0.9163 | 3_fscore_05=0.9530 | 3_fscore_best=0.9655 | 3_fscore_best_th=0.9750 | 3_precision_05=0.9595 | 3_precision_best=1.0000 | 3_recall_05=0.9467 | 3_recall_best=0.9333 | _base/lr=4.503e-05 | _base/momentum=0.9000 | _timers/_fps=185.9150 | _timers/batch_time=0.0464 | _timers/data_time=0.0345 | _timers/model_time=0.0118 | fscore_macro_best=0.9184 | loss=0.0800 | loss_bce=0.0800 | macro_f1=0.9009"
   ]
  },
  {
   "cell_type": "code",
   "execution_count": null,
   "metadata": {},
   "outputs": [],
   "source": []
  }
 ],
 "metadata": {
  "accelerator": "GPU",
  "colab": {
   "name": "cars segmentation (camvid).ipynb",
   "provenance": []
  },
  "kernelspec": {
   "display_name": "Python 3",
   "language": "python",
   "name": "python3"
  },
  "language_info": {
   "codemirror_mode": {
    "name": "ipython",
    "version": 3
   },
   "file_extension": ".py",
   "mimetype": "text/x-python",
   "name": "python",
   "nbconvert_exporter": "python",
   "pygments_lexer": "ipython3",
   "version": "3.7.3"
  },
  "varInspector": {
   "cols": {
    "lenName": 16,
    "lenType": 16,
    "lenVar": 40
   },
   "kernels_config": {
    "python": {
     "delete_cmd_postfix": "",
     "delete_cmd_prefix": "del ",
     "library": "var_list.py",
     "varRefreshCmd": "print(var_dic_list())"
    },
    "r": {
     "delete_cmd_postfix": ") ",
     "delete_cmd_prefix": "rm(",
     "library": "var_list.r",
     "varRefreshCmd": "cat(var_dic_list()) "
    }
   },
   "types_to_exclude": [
    "module",
    "function",
    "builtin_function_or_method",
    "instance",
    "_Feature"
   ],
   "window_display": false
  }
 },
 "nbformat": 4,
 "nbformat_minor": 1
}
